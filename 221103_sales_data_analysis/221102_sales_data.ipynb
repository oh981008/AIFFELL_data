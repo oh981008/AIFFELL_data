{
 "cells": [
  {
   "cell_type": "code",
   "execution_count": 42,
   "metadata": {
    "scrolled": true
   },
   "outputs": [
    {
     "data": {
      "text/html": [
       "<div>\n",
       "<style scoped>\n",
       "    .dataframe tbody tr th:only-of-type {\n",
       "        vertical-align: middle;\n",
       "    }\n",
       "\n",
       "    .dataframe tbody tr th {\n",
       "        vertical-align: top;\n",
       "    }\n",
       "\n",
       "    .dataframe thead th {\n",
       "        text-align: right;\n",
       "    }\n",
       "</style>\n",
       "<table border=\"1\" class=\"dataframe\">\n",
       "  <thead>\n",
       "    <tr style=\"text-align: right;\">\n",
       "      <th></th>\n",
       "      <th>install</th>\n",
       "      <th>Time_stamp</th>\n",
       "      <th>Game_Name</th>\n",
       "      <th>Status</th>\n",
       "      <th>Payment</th>\n",
       "      <th>Customer_ID</th>\n",
       "    </tr>\n",
       "  </thead>\n",
       "  <tbody>\n",
       "    <tr>\n",
       "      <th>0</th>\n",
       "      <td>2022-01-08</td>\n",
       "      <td>2022-02-05</td>\n",
       "      <td>MineGround</td>\n",
       "      <td>play</td>\n",
       "      <td>4900</td>\n",
       "      <td>facilis140</td>\n",
       "    </tr>\n",
       "    <tr>\n",
       "      <th>1</th>\n",
       "      <td>2022-01-05</td>\n",
       "      <td>2022-02-17</td>\n",
       "      <td>MineGround</td>\n",
       "      <td>play</td>\n",
       "      <td>29900</td>\n",
       "      <td>debitis994</td>\n",
       "    </tr>\n",
       "    <tr>\n",
       "      <th>2</th>\n",
       "      <td>2022-01-29</td>\n",
       "      <td>2022-02-06</td>\n",
       "      <td>MineGround</td>\n",
       "      <td>play</td>\n",
       "      <td>4900</td>\n",
       "      <td>possimus246</td>\n",
       "    </tr>\n",
       "    <tr>\n",
       "      <th>3</th>\n",
       "      <td>2022-01-09</td>\n",
       "      <td>2022-02-05</td>\n",
       "      <td>MineGround</td>\n",
       "      <td>play</td>\n",
       "      <td>900</td>\n",
       "      <td>occaecati138</td>\n",
       "    </tr>\n",
       "    <tr>\n",
       "      <th>4</th>\n",
       "      <td>2022-01-08</td>\n",
       "      <td>2022-02-01</td>\n",
       "      <td>MineGround</td>\n",
       "      <td>play</td>\n",
       "      <td>900</td>\n",
       "      <td>corrupti325</td>\n",
       "    </tr>\n",
       "    <tr>\n",
       "      <th>...</th>\n",
       "      <td>...</td>\n",
       "      <td>...</td>\n",
       "      <td>...</td>\n",
       "      <td>...</td>\n",
       "      <td>...</td>\n",
       "      <td>...</td>\n",
       "    </tr>\n",
       "    <tr>\n",
       "      <th>99840</th>\n",
       "      <td>2022-03-27</td>\n",
       "      <td>2022-03-27</td>\n",
       "      <td>SoccerManager</td>\n",
       "      <td>install</td>\n",
       "      <td>0</td>\n",
       "      <td>dicta630</td>\n",
       "    </tr>\n",
       "    <tr>\n",
       "      <th>99841</th>\n",
       "      <td>2022-03-28</td>\n",
       "      <td>2022-03-28</td>\n",
       "      <td>SoccerManager</td>\n",
       "      <td>install</td>\n",
       "      <td>0</td>\n",
       "      <td>tempora976</td>\n",
       "    </tr>\n",
       "    <tr>\n",
       "      <th>99842</th>\n",
       "      <td>2022-03-26</td>\n",
       "      <td>2022-03-26</td>\n",
       "      <td>SoccerManager</td>\n",
       "      <td>install</td>\n",
       "      <td>0</td>\n",
       "      <td>iusto840</td>\n",
       "    </tr>\n",
       "    <tr>\n",
       "      <th>99843</th>\n",
       "      <td>2022-03-20</td>\n",
       "      <td>2022-03-20</td>\n",
       "      <td>SoccerManager</td>\n",
       "      <td>install</td>\n",
       "      <td>0</td>\n",
       "      <td>nemo273</td>\n",
       "    </tr>\n",
       "    <tr>\n",
       "      <th>99844</th>\n",
       "      <td>2022-03-07</td>\n",
       "      <td>2022-03-07</td>\n",
       "      <td>SoccerManager</td>\n",
       "      <td>install</td>\n",
       "      <td>0</td>\n",
       "      <td>consequatur371</td>\n",
       "    </tr>\n",
       "  </tbody>\n",
       "</table>\n",
       "<p>99845 rows × 6 columns</p>\n",
       "</div>"
      ],
      "text/plain": [
       "          install  Time_stamp      Game_Name   Status  Payment     Customer_ID\n",
       "0      2022-01-08  2022-02-05     MineGround     play     4900      facilis140\n",
       "1      2022-01-05  2022-02-17     MineGround     play    29900      debitis994\n",
       "2      2022-01-29  2022-02-06     MineGround     play     4900     possimus246\n",
       "3      2022-01-09  2022-02-05     MineGround     play      900    occaecati138\n",
       "4      2022-01-08  2022-02-01     MineGround     play      900     corrupti325\n",
       "...           ...         ...            ...      ...      ...             ...\n",
       "99840  2022-03-27  2022-03-27  SoccerManager  install        0        dicta630\n",
       "99841  2022-03-28  2022-03-28  SoccerManager  install        0      tempora976\n",
       "99842  2022-03-26  2022-03-26  SoccerManager  install        0        iusto840\n",
       "99843  2022-03-20  2022-03-20  SoccerManager  install        0         nemo273\n",
       "99844  2022-03-07  2022-03-07  SoccerManager  install        0  consequatur371\n",
       "\n",
       "[99845 rows x 6 columns]"
      ]
     },
     "execution_count": 42,
     "metadata": {},
     "output_type": "execute_result"
    }
   ],
   "source": [
    "import pandas as pd\n",
    "import matplotlib.pyplot as plt\n",
    "\n",
    "#saled data를 변수명 saleslog에 할당\n",
    "#saleslog=pd.read_csv(\"C:\\\\Users\\\\오순정\\\\aifell\\\\node\\\\221103\")\n",
    "saleslog=pd.read_csv('~/aifell/node/221103/Sales.csv')\n",
    "saleslog"
   ]
  },
  {
   "cell_type": "code",
   "execution_count": 43,
   "metadata": {},
   "outputs": [
    {
     "data": {
      "text/plain": [
       "144443100"
      ]
     },
     "execution_count": 43,
     "metadata": {},
     "output_type": "execute_result"
    }
   ],
   "source": [
    "#1월부터 3월까지 결제 금액 총액 계산하기\n",
    "saleslog['Payment'].sum()"
   ]
  },
  {
   "cell_type": "code",
   "execution_count": 44,
   "metadata": {},
   "outputs": [
    {
     "data": {
      "image/png": "[encoded data removed]",
      "text/plain": [
       "<Figure size 432x288 with 1 Axes>"
      ]
     },
     "metadata": {
      "needs_background": "light"
     },
     "output_type": "display_data"
    }
   ],
   "source": [
    "# 결제 금액을 히스토그램으로 그리기\n",
    "plt.hist(saleslog['Payment'])\n",
    "plt.title('Sales Status')\n",
    "plt.show()"
   ]
  },
  {
   "cell_type": "code",
   "execution_count": 45,
   "metadata": {
    "scrolled": true
   },
   "outputs": [
    {
     "data": {
      "image/png": "[encoded data removed]",
      "text/plain": [
       "<Figure size 432x288 with 1 Axes>"
      ]
     },
     "metadata": {
      "needs_background": "light"
     },
     "output_type": "display_data"
    }
   ],
   "source": [
    "#대부분 만원이하로 결제 \n",
    "\n",
    "#결제금액이 0원이 아닌 무과금 유저 제외하고 변수에 할당\n",
    "sales=saleslog[saleslog['Payment']!=0]\n",
    "\n",
    "#결제 금액으로 히스토그램 그리기\n",
    "plt.hist(sales['Payment'])\n",
    "plt.title('sales status only payment')\n",
    "plt.show()"
   ]
  },
  {
   "cell_type": "code",
   "execution_count": 46,
   "metadata": {},
   "outputs": [
    {
     "data": {
      "text/plain": [
       "count    15309.000000\n",
       "mean      9435.175387\n",
       "std      11897.228643\n",
       "min        900.000000\n",
       "25%        900.000000\n",
       "50%       4900.000000\n",
       "75%       9900.000000\n",
       "max      49900.000000\n",
       "Name: Payment, dtype: float64"
      ]
     },
     "execution_count": 46,
     "metadata": {},
     "output_type": "execute_result"
    }
   ],
   "source": [
    "#box plot을 통한 결제 금액의 사분위수\n",
    "\n",
    "#결제금액의 기술통계량 확인\n",
    "sales['Payment'].describe()"
   ]
  },
  {
   "cell_type": "code",
   "execution_count": 47,
   "metadata": {},
   "outputs": [
    {
     "data": {
      "image/png": "[encoded data removed]",
      "text/plain": [
       "<Figure size 432x288 with 1 Axes>"
      ]
     },
     "metadata": {
      "needs_background": "light"
     },
     "output_type": "display_data"
    }
   ],
   "source": [
    "plt.boxplot(sales['Payment'])\n",
    "plt.title('payment box plt')\n",
    "plt.show()"
   ]
  },
  {
   "cell_type": "markdown",
   "metadata": {},
   "source": [
    "최솟값이 900, 최댓값이 49900, 평균결제금액 9435\n"
   ]
  },
  {
   "cell_type": "code",
   "execution_count": 48,
   "metadata": {},
   "outputs": [
    {
     "data": {
      "text/plain": [
       "900      0.350709\n",
       "4900     0.248677\n",
       "9900     0.201581\n",
       "19900    0.100856\n",
       "29900    0.050036\n",
       "49900    0.048142\n",
       "Name: Payment, dtype: float64"
      ]
     },
     "execution_count": 48,
     "metadata": {},
     "output_type": "execute_result"
    }
   ],
   "source": [
    "sales['Payment'].value_counts()/len(sales['Payment'])"
   ]
  },
  {
   "cell_type": "markdown",
   "metadata": {},
   "source": [
    "실제 900운 결제 건수 전체 35퍼\n",
    "4900원 결제 ㅈ건수 약 24퍼\n",
    "둘이 합치면 약 70퍼"
   ]
  },
  {
   "cell_type": "code",
   "execution_count": 49,
   "metadata": {},
   "outputs": [
    {
     "data": {
      "text/plain": [
       "Month\n",
       "2022-02    80841800\n",
       "2022-03    63601300\n",
       "Name: Payment, dtype: int64"
      ]
     },
     "execution_count": 49,
     "metadata": {},
     "output_type": "execute_result"
    }
   ],
   "source": [
    "#월별 결제 금액 \n",
    "#groupby() 함수 사용 - ppandss 데이터 프레임 중 특정열을 기준으로 집계\n",
    "\n",
    "saleslog=saleslog.copy()\n",
    "saleslog['Month']=saleslog['Time_stamp'].str[:7]\n",
    "\n",
    "#워별 결제금액 확인\n",
    "saleslog['Payment'].groupby(saleslog['Month']).sum()"
   ]
  },
  {
   "cell_type": "code",
   "execution_count": 50,
   "metadata": {
    "scrolled": false
   },
   "outputs": [
    {
     "data": {
      "text/plain": [
       "Month\n",
       "2022-02    80841800\n",
       "2022-03    63601300\n",
       "Name: Payment, dtype: int64"
      ]
     },
     "execution_count": 50,
     "metadata": {},
     "output_type": "execute_result"
    }
   ],
   "source": [
    "#2월에 비해 3월이 줄음 \n",
    "\n",
    "temp_data = saleslog['Payment'].groupby(saleslog['Month']).sum()\n",
    "temp_data"
   ]
  },
  {
   "cell_type": "code",
   "execution_count": 52,
   "metadata": {
    "scrolled": true
   },
   "outputs": [
    {
     "ename": "AttributeError",
     "evalue": "module 'matplotlib.pyplot' has no attribute 'bar_label'",
     "output_type": "error",
     "traceback": [
      "\u001b[1;31m---------------------------------------------------------------------------\u001b[0m",
      "\u001b[1;31mAttributeError\u001b[0m                            Traceback (most recent call last)",
      "\u001b[1;32m<ipython-input-52-b7a7be31ffc5>\u001b[0m in \u001b[0;36m<module>\u001b[1;34m\u001b[0m\n\u001b[0;32m      1\u001b[0m \u001b[0max\u001b[0m \u001b[1;33m=\u001b[0m \u001b[0mplt\u001b[0m\u001b[1;33m.\u001b[0m\u001b[0mbar\u001b[0m\u001b[1;33m(\u001b[0m\u001b[0mtemp_data\u001b[0m\u001b[1;33m.\u001b[0m\u001b[0mindex\u001b[0m\u001b[1;33m,\u001b[0m \u001b[0mtemp_data\u001b[0m\u001b[1;33m)\u001b[0m\u001b[1;33m\u001b[0m\u001b[1;33m\u001b[0m\u001b[0m\n\u001b[1;32m----> 2\u001b[1;33m \u001b[0mplt\u001b[0m\u001b[1;33m.\u001b[0m\u001b[0mbar_label\u001b[0m\u001b[1;33m(\u001b[0m\u001b[0max\u001b[0m\u001b[1;33m,\u001b[0m \u001b[0mlabels\u001b[0m\u001b[1;33m=\u001b[0m\u001b[1;33m[\u001b[0m\u001b[1;34mf'{x:,.0f}'\u001b[0m \u001b[1;32mfor\u001b[0m \u001b[0mx\u001b[0m \u001b[1;32min\u001b[0m \u001b[0max\u001b[0m\u001b[1;33m.\u001b[0m\u001b[0mdatavalues\u001b[0m\u001b[1;33m]\u001b[0m\u001b[1;33m,\u001b[0m \u001b[0mlabel_type\u001b[0m\u001b[1;33m=\u001b[0m\u001b[1;34m'center'\u001b[0m\u001b[1;33m)\u001b[0m\u001b[1;33m\u001b[0m\u001b[1;33m\u001b[0m\u001b[0m\n\u001b[0m\u001b[0;32m      3\u001b[0m \u001b[0mplt\u001b[0m\u001b[1;33m.\u001b[0m\u001b[0mtitle\u001b[0m\u001b[1;33m(\u001b[0m\u001b[1;34m'Payments by Month'\u001b[0m\u001b[1;33m)\u001b[0m\u001b[1;33m\u001b[0m\u001b[1;33m\u001b[0m\u001b[0m\n\u001b[0;32m      4\u001b[0m \u001b[0mplt\u001b[0m\u001b[1;33m.\u001b[0m\u001b[0mshow\u001b[0m\u001b[1;33m(\u001b[0m\u001b[1;33m)\u001b[0m\u001b[1;33m\u001b[0m\u001b[1;33m\u001b[0m\u001b[0m\n",
      "\u001b[1;31mAttributeError\u001b[0m: module 'matplotlib.pyplot' has no attribute 'bar_label'"
     ]
    },
    {
     "data": {
      "image/png": "[encoded data removed]",
      "text/plain": [
       "<Figure size 432x288 with 1 Axes>"
      ]
     },
     "metadata": {
      "needs_background": "light"
     },
     "output_type": "display_data"
    }
   ],
   "source": [
    "ax = plt.bar(temp_data.index, temp_data)\n",
    "plt.bar_label(ax, labels=[f'{x:,.0f}' for x in ax.datavalues], label_type='center')\n",
    "plt.title('Payments by Month')\n",
    "plt.show()"
   ]
  },
  {
   "cell_type": "code",
   "execution_count": 61,
   "metadata": {},
   "outputs": [
    {
     "data": {
      "text/html": [
       "<div>\n",
       "<style scoped>\n",
       "    .dataframe tbody tr th:only-of-type {\n",
       "        vertical-align: middle;\n",
       "    }\n",
       "\n",
       "    .dataframe tbody tr th {\n",
       "        vertical-align: top;\n",
       "    }\n",
       "\n",
       "    .dataframe thead th {\n",
       "        text-align: right;\n",
       "    }\n",
       "</style>\n",
       "<table border=\"1\" class=\"dataframe\">\n",
       "  <thead>\n",
       "    <tr style=\"text-align: right;\">\n",
       "      <th></th>\n",
       "      <th>install</th>\n",
       "      <th>Time_stamp</th>\n",
       "      <th>Game_Name</th>\n",
       "      <th>Status</th>\n",
       "      <th>Payment</th>\n",
       "      <th>Customer_ID</th>\n",
       "      <th>Month</th>\n",
       "    </tr>\n",
       "  </thead>\n",
       "  <tbody>\n",
       "    <tr>\n",
       "      <th>0</th>\n",
       "      <td>2022-01-08</td>\n",
       "      <td>2022-02-05</td>\n",
       "      <td>MineGround</td>\n",
       "      <td>play</td>\n",
       "      <td>4900</td>\n",
       "      <td>facilis140</td>\n",
       "      <td>2022-02</td>\n",
       "    </tr>\n",
       "    <tr>\n",
       "      <th>1</th>\n",
       "      <td>2022-01-05</td>\n",
       "      <td>2022-02-17</td>\n",
       "      <td>MineGround</td>\n",
       "      <td>play</td>\n",
       "      <td>29900</td>\n",
       "      <td>debitis994</td>\n",
       "      <td>2022-02</td>\n",
       "    </tr>\n",
       "    <tr>\n",
       "      <th>2</th>\n",
       "      <td>2022-01-29</td>\n",
       "      <td>2022-02-06</td>\n",
       "      <td>MineGround</td>\n",
       "      <td>play</td>\n",
       "      <td>4900</td>\n",
       "      <td>possimus246</td>\n",
       "      <td>2022-02</td>\n",
       "    </tr>\n",
       "    <tr>\n",
       "      <th>3</th>\n",
       "      <td>2022-01-09</td>\n",
       "      <td>2022-02-05</td>\n",
       "      <td>MineGround</td>\n",
       "      <td>play</td>\n",
       "      <td>900</td>\n",
       "      <td>occaecati138</td>\n",
       "      <td>2022-02</td>\n",
       "    </tr>\n",
       "    <tr>\n",
       "      <th>4</th>\n",
       "      <td>2022-01-08</td>\n",
       "      <td>2022-02-01</td>\n",
       "      <td>MineGround</td>\n",
       "      <td>play</td>\n",
       "      <td>900</td>\n",
       "      <td>corrupti325</td>\n",
       "      <td>2022-02</td>\n",
       "    </tr>\n",
       "    <tr>\n",
       "      <th>...</th>\n",
       "      <td>...</td>\n",
       "      <td>...</td>\n",
       "      <td>...</td>\n",
       "      <td>...</td>\n",
       "      <td>...</td>\n",
       "      <td>...</td>\n",
       "      <td>...</td>\n",
       "    </tr>\n",
       "    <tr>\n",
       "      <th>12168</th>\n",
       "      <td>2022-02-12</td>\n",
       "      <td>2022-02-14</td>\n",
       "      <td>SoccerManager</td>\n",
       "      <td>play</td>\n",
       "      <td>4900</td>\n",
       "      <td>quam946</td>\n",
       "      <td>2022-02</td>\n",
       "    </tr>\n",
       "    <tr>\n",
       "      <th>12169</th>\n",
       "      <td>2022-02-10</td>\n",
       "      <td>2022-02-14</td>\n",
       "      <td>SoccerManager</td>\n",
       "      <td>play</td>\n",
       "      <td>4900</td>\n",
       "      <td>commodi507</td>\n",
       "      <td>2022-02</td>\n",
       "    </tr>\n",
       "    <tr>\n",
       "      <th>12170</th>\n",
       "      <td>2022-02-16</td>\n",
       "      <td>2022-02-21</td>\n",
       "      <td>SoccerManager</td>\n",
       "      <td>play</td>\n",
       "      <td>900</td>\n",
       "      <td>rerum275</td>\n",
       "      <td>2022-02</td>\n",
       "    </tr>\n",
       "    <tr>\n",
       "      <th>12171</th>\n",
       "      <td>2022-02-16</td>\n",
       "      <td>2022-02-20</td>\n",
       "      <td>SoccerManager</td>\n",
       "      <td>play</td>\n",
       "      <td>9900</td>\n",
       "      <td>quo151</td>\n",
       "      <td>2022-02</td>\n",
       "    </tr>\n",
       "    <tr>\n",
       "      <th>12172</th>\n",
       "      <td>2022-02-07</td>\n",
       "      <td>2022-02-12</td>\n",
       "      <td>SoccerManager</td>\n",
       "      <td>play</td>\n",
       "      <td>4900</td>\n",
       "      <td>aspernatur159</td>\n",
       "      <td>2022-02</td>\n",
       "    </tr>\n",
       "  </tbody>\n",
       "</table>\n",
       "<p>8542 rows × 7 columns</p>\n",
       "</div>"
      ],
      "text/plain": [
       "          install  Time_stamp      Game_Name Status  Payment    Customer_ID  \\\n",
       "0      2022-01-08  2022-02-05     MineGround   play     4900     facilis140   \n",
       "1      2022-01-05  2022-02-17     MineGround   play    29900     debitis994   \n",
       "2      2022-01-29  2022-02-06     MineGround   play     4900    possimus246   \n",
       "3      2022-01-09  2022-02-05     MineGround   play      900   occaecati138   \n",
       "4      2022-01-08  2022-02-01     MineGround   play      900    corrupti325   \n",
       "...           ...         ...            ...    ...      ...            ...   \n",
       "12168  2022-02-12  2022-02-14  SoccerManager   play     4900        quam946   \n",
       "12169  2022-02-10  2022-02-14  SoccerManager   play     4900     commodi507   \n",
       "12170  2022-02-16  2022-02-21  SoccerManager   play      900       rerum275   \n",
       "12171  2022-02-16  2022-02-20  SoccerManager   play     9900         quo151   \n",
       "12172  2022-02-07  2022-02-12  SoccerManager   play     4900  aspernatur159   \n",
       "\n",
       "         Month  \n",
       "0      2022-02  \n",
       "1      2022-02  \n",
       "2      2022-02  \n",
       "3      2022-02  \n",
       "4      2022-02  \n",
       "...        ...  \n",
       "12168  2022-02  \n",
       "12169  2022-02  \n",
       "12170  2022-02  \n",
       "12171  2022-02  \n",
       "12172  2022-02  \n",
       "\n",
       "[8542 rows x 7 columns]"
      ]
     },
     "execution_count": 61,
     "metadata": {},
     "output_type": "execute_result"
    }
   ],
   "source": [
    "#sales02 벼ㄴ수를 만들고 2월에 결제한 데이터 할당, 무과금 제외\n",
    "sales2 = saleslog[(saleslog['Month'] == '2022-02')& (saleslog['Payment'] != 0)]\n",
    "sales2"
   ]
  },
  {
   "cell_type": "code",
   "execution_count": 62,
   "metadata": {},
   "outputs": [
    {
     "data": {
      "text/html": [
       "<div>\n",
       "<style scoped>\n",
       "    .dataframe tbody tr th:only-of-type {\n",
       "        vertical-align: middle;\n",
       "    }\n",
       "\n",
       "    .dataframe tbody tr th {\n",
       "        vertical-align: top;\n",
       "    }\n",
       "\n",
       "    .dataframe thead th {\n",
       "        text-align: right;\n",
       "    }\n",
       "</style>\n",
       "<table border=\"1\" class=\"dataframe\">\n",
       "  <thead>\n",
       "    <tr style=\"text-align: right;\">\n",
       "      <th></th>\n",
       "      <th>install</th>\n",
       "      <th>Time_stamp</th>\n",
       "      <th>Game_Name</th>\n",
       "      <th>Status</th>\n",
       "      <th>Payment</th>\n",
       "      <th>Customer_ID</th>\n",
       "      <th>Month</th>\n",
       "    </tr>\n",
       "  </thead>\n",
       "  <tbody>\n",
       "    <tr>\n",
       "      <th>0</th>\n",
       "      <td>2022-01-08</td>\n",
       "      <td>2022-02-05</td>\n",
       "      <td>MineGround</td>\n",
       "      <td>play</td>\n",
       "      <td>4900</td>\n",
       "      <td>facilis140</td>\n",
       "      <td>2022-02</td>\n",
       "    </tr>\n",
       "    <tr>\n",
       "      <th>1</th>\n",
       "      <td>2022-01-05</td>\n",
       "      <td>2022-02-17</td>\n",
       "      <td>MineGround</td>\n",
       "      <td>play</td>\n",
       "      <td>29900</td>\n",
       "      <td>debitis994</td>\n",
       "      <td>2022-02</td>\n",
       "    </tr>\n",
       "    <tr>\n",
       "      <th>2</th>\n",
       "      <td>2022-01-29</td>\n",
       "      <td>2022-02-06</td>\n",
       "      <td>MineGround</td>\n",
       "      <td>play</td>\n",
       "      <td>4900</td>\n",
       "      <td>possimus246</td>\n",
       "      <td>2022-02</td>\n",
       "    </tr>\n",
       "    <tr>\n",
       "      <th>3</th>\n",
       "      <td>2022-01-09</td>\n",
       "      <td>2022-02-05</td>\n",
       "      <td>MineGround</td>\n",
       "      <td>play</td>\n",
       "      <td>900</td>\n",
       "      <td>occaecati138</td>\n",
       "      <td>2022-02</td>\n",
       "    </tr>\n",
       "    <tr>\n",
       "      <th>4</th>\n",
       "      <td>2022-01-08</td>\n",
       "      <td>2022-02-01</td>\n",
       "      <td>MineGround</td>\n",
       "      <td>play</td>\n",
       "      <td>900</td>\n",
       "      <td>corrupti325</td>\n",
       "      <td>2022-02</td>\n",
       "    </tr>\n",
       "    <tr>\n",
       "      <th>...</th>\n",
       "      <td>...</td>\n",
       "      <td>...</td>\n",
       "      <td>...</td>\n",
       "      <td>...</td>\n",
       "      <td>...</td>\n",
       "      <td>...</td>\n",
       "      <td>...</td>\n",
       "    </tr>\n",
       "    <tr>\n",
       "      <th>8537</th>\n",
       "      <td>2022-02-12</td>\n",
       "      <td>2022-02-14</td>\n",
       "      <td>SoccerManager</td>\n",
       "      <td>play</td>\n",
       "      <td>4900</td>\n",
       "      <td>quam946</td>\n",
       "      <td>2022-02</td>\n",
       "    </tr>\n",
       "    <tr>\n",
       "      <th>8538</th>\n",
       "      <td>2022-02-10</td>\n",
       "      <td>2022-02-14</td>\n",
       "      <td>SoccerManager</td>\n",
       "      <td>play</td>\n",
       "      <td>4900</td>\n",
       "      <td>commodi507</td>\n",
       "      <td>2022-02</td>\n",
       "    </tr>\n",
       "    <tr>\n",
       "      <th>8539</th>\n",
       "      <td>2022-02-16</td>\n",
       "      <td>2022-02-21</td>\n",
       "      <td>SoccerManager</td>\n",
       "      <td>play</td>\n",
       "      <td>900</td>\n",
       "      <td>rerum275</td>\n",
       "      <td>2022-02</td>\n",
       "    </tr>\n",
       "    <tr>\n",
       "      <th>8540</th>\n",
       "      <td>2022-02-16</td>\n",
       "      <td>2022-02-20</td>\n",
       "      <td>SoccerManager</td>\n",
       "      <td>play</td>\n",
       "      <td>9900</td>\n",
       "      <td>quo151</td>\n",
       "      <td>2022-02</td>\n",
       "    </tr>\n",
       "    <tr>\n",
       "      <th>8541</th>\n",
       "      <td>2022-02-07</td>\n",
       "      <td>2022-02-12</td>\n",
       "      <td>SoccerManager</td>\n",
       "      <td>play</td>\n",
       "      <td>4900</td>\n",
       "      <td>aspernatur159</td>\n",
       "      <td>2022-02</td>\n",
       "    </tr>\n",
       "  </tbody>\n",
       "</table>\n",
       "<p>8542 rows × 7 columns</p>\n",
       "</div>"
      ],
      "text/plain": [
       "         install  Time_stamp      Game_Name Status  Payment    Customer_ID  \\\n",
       "0     2022-01-08  2022-02-05     MineGround   play     4900     facilis140   \n",
       "1     2022-01-05  2022-02-17     MineGround   play    29900     debitis994   \n",
       "2     2022-01-29  2022-02-06     MineGround   play     4900    possimus246   \n",
       "3     2022-01-09  2022-02-05     MineGround   play      900   occaecati138   \n",
       "4     2022-01-08  2022-02-01     MineGround   play      900    corrupti325   \n",
       "...          ...         ...            ...    ...      ...            ...   \n",
       "8537  2022-02-12  2022-02-14  SoccerManager   play     4900        quam946   \n",
       "8538  2022-02-10  2022-02-14  SoccerManager   play     4900     commodi507   \n",
       "8539  2022-02-16  2022-02-21  SoccerManager   play      900       rerum275   \n",
       "8540  2022-02-16  2022-02-20  SoccerManager   play     9900         quo151   \n",
       "8541  2022-02-07  2022-02-12  SoccerManager   play     4900  aspernatur159   \n",
       "\n",
       "        Month  \n",
       "0     2022-02  \n",
       "1     2022-02  \n",
       "2     2022-02  \n",
       "3     2022-02  \n",
       "4     2022-02  \n",
       "...       ...  \n",
       "8537  2022-02  \n",
       "8538  2022-02  \n",
       "8539  2022-02  \n",
       "8540  2022-02  \n",
       "8541  2022-02  \n",
       "\n",
       "[8542 rows x 7 columns]"
      ]
     },
     "execution_count": 62,
     "metadata": {},
     "output_type": "execute_result"
    }
   ],
   "source": [
    "#시각화를 위한 인덱스 정렬\n",
    "sales2.reset_index(drop=True)"
   ]
  },
  {
   "cell_type": "code",
   "execution_count": 63,
   "metadata": {},
   "outputs": [
    {
     "data": {
      "image/png": "[encoded data removed]",
      "text/plain": [
       "<Figure size 2160x360 with 1 Axes>"
      ]
     },
     "metadata": {
      "needs_background": "light"
     },
     "output_type": "display_data"
    }
   ],
   "source": [
    "#2월에 결제한 데이터 날짜순 정렬, 막대그래프 그려봄\n",
    "temp_data=sales2['Payment'].groupby(sales2['Time_stamp']).sum()\n",
    "plt.figure(figsize=(30,5))\n",
    "plt.bar(temp_data.index, temp_data)\n",
    "plt.title('feb_payments')\n",
    "plt.xticks(rotation=45)\n",
    "plt.show()"
   ]
  },
  {
   "cell_type": "code",
   "execution_count": 65,
   "metadata": {},
   "outputs": [
    {
     "data": {
      "text/html": [
       "<div>\n",
       "<style scoped>\n",
       "    .dataframe tbody tr th:only-of-type {\n",
       "        vertical-align: middle;\n",
       "    }\n",
       "\n",
       "    .dataframe tbody tr th {\n",
       "        vertical-align: top;\n",
       "    }\n",
       "\n",
       "    .dataframe thead th {\n",
       "        text-align: right;\n",
       "    }\n",
       "</style>\n",
       "<table border=\"1\" class=\"dataframe\">\n",
       "  <thead>\n",
       "    <tr style=\"text-align: right;\">\n",
       "      <th></th>\n",
       "      <th>install</th>\n",
       "      <th>Time_stamp</th>\n",
       "      <th>Game_Name</th>\n",
       "      <th>Status</th>\n",
       "      <th>Payment</th>\n",
       "      <th>Customer_ID</th>\n",
       "      <th>Month</th>\n",
       "    </tr>\n",
       "  </thead>\n",
       "  <tbody>\n",
       "    <tr>\n",
       "      <th>4318</th>\n",
       "      <td>2022-01-13</td>\n",
       "      <td>2022-03-14</td>\n",
       "      <td>MineGround</td>\n",
       "      <td>play</td>\n",
       "      <td>900</td>\n",
       "      <td>quod578</td>\n",
       "      <td>2022-03</td>\n",
       "    </tr>\n",
       "    <tr>\n",
       "      <th>4319</th>\n",
       "      <td>2022-02-08</td>\n",
       "      <td>2022-03-21</td>\n",
       "      <td>MineGround</td>\n",
       "      <td>play</td>\n",
       "      <td>9900</td>\n",
       "      <td>saepe705</td>\n",
       "      <td>2022-03</td>\n",
       "    </tr>\n",
       "    <tr>\n",
       "      <th>4320</th>\n",
       "      <td>2022-01-24</td>\n",
       "      <td>2022-03-20</td>\n",
       "      <td>MineGround</td>\n",
       "      <td>play</td>\n",
       "      <td>19900</td>\n",
       "      <td>voluptates561</td>\n",
       "      <td>2022-03</td>\n",
       "    </tr>\n",
       "    <tr>\n",
       "      <th>4321</th>\n",
       "      <td>2022-02-05</td>\n",
       "      <td>2022-03-18</td>\n",
       "      <td>MineGround</td>\n",
       "      <td>play</td>\n",
       "      <td>9900</td>\n",
       "      <td>quaerat318</td>\n",
       "      <td>2022-03</td>\n",
       "    </tr>\n",
       "    <tr>\n",
       "      <th>4322</th>\n",
       "      <td>2022-01-19</td>\n",
       "      <td>2022-03-24</td>\n",
       "      <td>MineGround</td>\n",
       "      <td>play</td>\n",
       "      <td>4900</td>\n",
       "      <td>perspiciatis026</td>\n",
       "      <td>2022-03</td>\n",
       "    </tr>\n",
       "    <tr>\n",
       "      <th>...</th>\n",
       "      <td>...</td>\n",
       "      <td>...</td>\n",
       "      <td>...</td>\n",
       "      <td>...</td>\n",
       "      <td>...</td>\n",
       "      <td>...</td>\n",
       "      <td>...</td>\n",
       "    </tr>\n",
       "    <tr>\n",
       "      <th>15304</th>\n",
       "      <td>2022-03-21</td>\n",
       "      <td>2022-03-25</td>\n",
       "      <td>SoccerManager</td>\n",
       "      <td>play</td>\n",
       "      <td>9900</td>\n",
       "      <td>a329</td>\n",
       "      <td>2022-03</td>\n",
       "    </tr>\n",
       "    <tr>\n",
       "      <th>15305</th>\n",
       "      <td>2022-03-18</td>\n",
       "      <td>2022-03-20</td>\n",
       "      <td>SoccerManager</td>\n",
       "      <td>play</td>\n",
       "      <td>9900</td>\n",
       "      <td>dignissimos737</td>\n",
       "      <td>2022-03</td>\n",
       "    </tr>\n",
       "    <tr>\n",
       "      <th>15306</th>\n",
       "      <td>2022-03-17</td>\n",
       "      <td>2022-03-20</td>\n",
       "      <td>SoccerManager</td>\n",
       "      <td>play</td>\n",
       "      <td>900</td>\n",
       "      <td>sequi289</td>\n",
       "      <td>2022-03</td>\n",
       "    </tr>\n",
       "    <tr>\n",
       "      <th>15307</th>\n",
       "      <td>2022-03-13</td>\n",
       "      <td>2022-03-16</td>\n",
       "      <td>SoccerManager</td>\n",
       "      <td>play</td>\n",
       "      <td>4900</td>\n",
       "      <td>delectus499</td>\n",
       "      <td>2022-03</td>\n",
       "    </tr>\n",
       "    <tr>\n",
       "      <th>15308</th>\n",
       "      <td>2022-03-20</td>\n",
       "      <td>2022-03-25</td>\n",
       "      <td>SoccerManager</td>\n",
       "      <td>play</td>\n",
       "      <td>4900</td>\n",
       "      <td>sed697</td>\n",
       "      <td>2022-03</td>\n",
       "    </tr>\n",
       "  </tbody>\n",
       "</table>\n",
       "<p>6767 rows × 7 columns</p>\n",
       "</div>"
      ],
      "text/plain": [
       "          install  Time_stamp      Game_Name Status  Payment      Customer_ID  \\\n",
       "4318   2022-01-13  2022-03-14     MineGround   play      900          quod578   \n",
       "4319   2022-02-08  2022-03-21     MineGround   play     9900         saepe705   \n",
       "4320   2022-01-24  2022-03-20     MineGround   play    19900    voluptates561   \n",
       "4321   2022-02-05  2022-03-18     MineGround   play     9900       quaerat318   \n",
       "4322   2022-01-19  2022-03-24     MineGround   play     4900  perspiciatis026   \n",
       "...           ...         ...            ...    ...      ...              ...   \n",
       "15304  2022-03-21  2022-03-25  SoccerManager   play     9900             a329   \n",
       "15305  2022-03-18  2022-03-20  SoccerManager   play     9900   dignissimos737   \n",
       "15306  2022-03-17  2022-03-20  SoccerManager   play      900         sequi289   \n",
       "15307  2022-03-13  2022-03-16  SoccerManager   play     4900      delectus499   \n",
       "15308  2022-03-20  2022-03-25  SoccerManager   play     4900           sed697   \n",
       "\n",
       "         Month  \n",
       "4318   2022-03  \n",
       "4319   2022-03  \n",
       "4320   2022-03  \n",
       "4321   2022-03  \n",
       "4322   2022-03  \n",
       "...        ...  \n",
       "15304  2022-03  \n",
       "15305  2022-03  \n",
       "15306  2022-03  \n",
       "15307  2022-03  \n",
       "15308  2022-03  \n",
       "\n",
       "[6767 rows x 7 columns]"
      ]
     },
     "execution_count": 65,
     "metadata": {},
     "output_type": "execute_result"
    }
   ],
   "source": [
    "#3월에 결제한 데이터 시각화\n",
    "sales3=saleslog[(saleslog['Month']=='2022-03')&(saleslog['Payment']!=0)]\n",
    "sales3"
   ]
  },
  {
   "cell_type": "code",
   "execution_count": 66,
   "metadata": {},
   "outputs": [
    {
     "data": {
      "text/html": [
       "<div>\n",
       "<style scoped>\n",
       "    .dataframe tbody tr th:only-of-type {\n",
       "        vertical-align: middle;\n",
       "    }\n",
       "\n",
       "    .dataframe tbody tr th {\n",
       "        vertical-align: top;\n",
       "    }\n",
       "\n",
       "    .dataframe thead th {\n",
       "        text-align: right;\n",
       "    }\n",
       "</style>\n",
       "<table border=\"1\" class=\"dataframe\">\n",
       "  <thead>\n",
       "    <tr style=\"text-align: right;\">\n",
       "      <th></th>\n",
       "      <th>install</th>\n",
       "      <th>Time_stamp</th>\n",
       "      <th>Game_Name</th>\n",
       "      <th>Status</th>\n",
       "      <th>Payment</th>\n",
       "      <th>Customer_ID</th>\n",
       "      <th>Month</th>\n",
       "    </tr>\n",
       "  </thead>\n",
       "  <tbody>\n",
       "    <tr>\n",
       "      <th>0</th>\n",
       "      <td>2022-01-13</td>\n",
       "      <td>2022-03-14</td>\n",
       "      <td>MineGround</td>\n",
       "      <td>play</td>\n",
       "      <td>900</td>\n",
       "      <td>quod578</td>\n",
       "      <td>2022-03</td>\n",
       "    </tr>\n",
       "    <tr>\n",
       "      <th>1</th>\n",
       "      <td>2022-02-08</td>\n",
       "      <td>2022-03-21</td>\n",
       "      <td>MineGround</td>\n",
       "      <td>play</td>\n",
       "      <td>9900</td>\n",
       "      <td>saepe705</td>\n",
       "      <td>2022-03</td>\n",
       "    </tr>\n",
       "    <tr>\n",
       "      <th>2</th>\n",
       "      <td>2022-01-24</td>\n",
       "      <td>2022-03-20</td>\n",
       "      <td>MineGround</td>\n",
       "      <td>play</td>\n",
       "      <td>19900</td>\n",
       "      <td>voluptates561</td>\n",
       "      <td>2022-03</td>\n",
       "    </tr>\n",
       "    <tr>\n",
       "      <th>3</th>\n",
       "      <td>2022-02-05</td>\n",
       "      <td>2022-03-18</td>\n",
       "      <td>MineGround</td>\n",
       "      <td>play</td>\n",
       "      <td>9900</td>\n",
       "      <td>quaerat318</td>\n",
       "      <td>2022-03</td>\n",
       "    </tr>\n",
       "    <tr>\n",
       "      <th>4</th>\n",
       "      <td>2022-01-19</td>\n",
       "      <td>2022-03-24</td>\n",
       "      <td>MineGround</td>\n",
       "      <td>play</td>\n",
       "      <td>4900</td>\n",
       "      <td>perspiciatis026</td>\n",
       "      <td>2022-03</td>\n",
       "    </tr>\n",
       "    <tr>\n",
       "      <th>...</th>\n",
       "      <td>...</td>\n",
       "      <td>...</td>\n",
       "      <td>...</td>\n",
       "      <td>...</td>\n",
       "      <td>...</td>\n",
       "      <td>...</td>\n",
       "      <td>...</td>\n",
       "    </tr>\n",
       "    <tr>\n",
       "      <th>6762</th>\n",
       "      <td>2022-03-21</td>\n",
       "      <td>2022-03-25</td>\n",
       "      <td>SoccerManager</td>\n",
       "      <td>play</td>\n",
       "      <td>9900</td>\n",
       "      <td>a329</td>\n",
       "      <td>2022-03</td>\n",
       "    </tr>\n",
       "    <tr>\n",
       "      <th>6763</th>\n",
       "      <td>2022-03-18</td>\n",
       "      <td>2022-03-20</td>\n",
       "      <td>SoccerManager</td>\n",
       "      <td>play</td>\n",
       "      <td>9900</td>\n",
       "      <td>dignissimos737</td>\n",
       "      <td>2022-03</td>\n",
       "    </tr>\n",
       "    <tr>\n",
       "      <th>6764</th>\n",
       "      <td>2022-03-17</td>\n",
       "      <td>2022-03-20</td>\n",
       "      <td>SoccerManager</td>\n",
       "      <td>play</td>\n",
       "      <td>900</td>\n",
       "      <td>sequi289</td>\n",
       "      <td>2022-03</td>\n",
       "    </tr>\n",
       "    <tr>\n",
       "      <th>6765</th>\n",
       "      <td>2022-03-13</td>\n",
       "      <td>2022-03-16</td>\n",
       "      <td>SoccerManager</td>\n",
       "      <td>play</td>\n",
       "      <td>4900</td>\n",
       "      <td>delectus499</td>\n",
       "      <td>2022-03</td>\n",
       "    </tr>\n",
       "    <tr>\n",
       "      <th>6766</th>\n",
       "      <td>2022-03-20</td>\n",
       "      <td>2022-03-25</td>\n",
       "      <td>SoccerManager</td>\n",
       "      <td>play</td>\n",
       "      <td>4900</td>\n",
       "      <td>sed697</td>\n",
       "      <td>2022-03</td>\n",
       "    </tr>\n",
       "  </tbody>\n",
       "</table>\n",
       "<p>6767 rows × 7 columns</p>\n",
       "</div>"
      ],
      "text/plain": [
       "         install  Time_stamp      Game_Name Status  Payment      Customer_ID  \\\n",
       "0     2022-01-13  2022-03-14     MineGround   play      900          quod578   \n",
       "1     2022-02-08  2022-03-21     MineGround   play     9900         saepe705   \n",
       "2     2022-01-24  2022-03-20     MineGround   play    19900    voluptates561   \n",
       "3     2022-02-05  2022-03-18     MineGround   play     9900       quaerat318   \n",
       "4     2022-01-19  2022-03-24     MineGround   play     4900  perspiciatis026   \n",
       "...          ...         ...            ...    ...      ...              ...   \n",
       "6762  2022-03-21  2022-03-25  SoccerManager   play     9900             a329   \n",
       "6763  2022-03-18  2022-03-20  SoccerManager   play     9900   dignissimos737   \n",
       "6764  2022-03-17  2022-03-20  SoccerManager   play      900         sequi289   \n",
       "6765  2022-03-13  2022-03-16  SoccerManager   play     4900      delectus499   \n",
       "6766  2022-03-20  2022-03-25  SoccerManager   play     4900           sed697   \n",
       "\n",
       "        Month  \n",
       "0     2022-03  \n",
       "1     2022-03  \n",
       "2     2022-03  \n",
       "3     2022-03  \n",
       "4     2022-03  \n",
       "...       ...  \n",
       "6762  2022-03  \n",
       "6763  2022-03  \n",
       "6764  2022-03  \n",
       "6765  2022-03  \n",
       "6766  2022-03  \n",
       "\n",
       "[6767 rows x 7 columns]"
      ]
     },
     "execution_count": 66,
     "metadata": {},
     "output_type": "execute_result"
    }
   ],
   "source": [
    "#시각화를 위한 인덱스 정렬\n",
    "sales3.reset_index(drop=True)"
   ]
  },
  {
   "cell_type": "code",
   "execution_count": 67,
   "metadata": {},
   "outputs": [
    {
     "data": {
      "image/png": "[encoded data removed]",
      "text/plain": [
       "<Figure size 2160x360 with 1 Axes>"
      ]
     },
     "metadata": {
      "needs_background": "light"
     },
     "output_type": "display_data"
    }
   ],
   "source": [
    "#3월에 결제한 데이터 시각화\n",
    "temp_data1=sales3['Payment'].groupby(sales3['Time_stamp']).sum()\n",
    "plt.figure(figsize=(30,5))\n",
    "plt.bar(temp_data1.index,temp_data1)\n",
    "plt.title('march-payment')\n",
    "plt.xticks(rotation=45)\n",
    "plt.show()"
   ]
  },
  {
   "cell_type": "markdown",
   "metadata": {},
   "source": [
    "#### 커스텀 데이터로 확인"
   ]
  },
  {
   "cell_type": "code",
   "execution_count": 68,
   "metadata": {},
   "outputs": [
    {
     "name": "stdout",
     "output_type": "stream",
     "text": [
      "          Customer_ID Name     Nickname  Password  \\\n",
      "0          facilis140  이영순         quos  ********   \n",
      "1          debitis994  김중수    molestiae  ********   \n",
      "2         possimus246  양은경          rem  ********   \n",
      "3        occaecati138  백도윤       libero  ********   \n",
      "4         corrupti325  김영수   temporibus  ********   \n",
      "...               ...  ...          ...       ...   \n",
      "99840        dicta630  김예지          sit  ********   \n",
      "99841      tempora976  문은경         modi  ********   \n",
      "99842        iusto840  강중수        iusto  ********   \n",
      "99843         nemo273  황정남     deleniti  ********   \n",
      "99844  consequatur371  이영식  accusantium  ********   \n",
      "\n",
      "                              Email       Birth  Gender              C.P.  \\\n",
      "0                   coejongsu@yu.kr  1989-03-11  female  01x9-4x625-x5x3x   \n",
      "1                   jiweon02@ju.org  1995-11-19    male  01x9-3x228-x3x9x   \n",
      "2           coesubin@jusighoesa.com  2005-12-24  female  01x9-7x873-x2x2x   \n",
      "3            yeongceol80@gangryu.kr  2003-02-09  female  01x9-3x519-x7x1x   \n",
      "4                   jiweon96@yu.net  2004-05-04    male  01x9-0x079-x9x2x   \n",
      "...                             ...         ...     ...               ...   \n",
      "99840           ggim@yuhanhoesa.com  1992-07-31    male  01x9-8x787-x6x7x   \n",
      "99841  gimjeongnam@gimgweonjang.com  1990-09-17    male  01x9-5x401-x0x0x   \n",
      "99842                  qu@gimgim.kr  1984-12-25  female  01x9-3x247-x9x7x   \n",
      "99843            yejun90@imubag.com  1985-05-11    male  01x9-5x324-x8x7x   \n",
      "99844        seongsu95@hwangryu.com  2000-02-18  female  01x9-5x277-x4x5x   \n",
      "\n",
      "      MobileCompany       OS  \n",
      "0               LGU      iOS  \n",
      "1                KT      iOS  \n",
      "2               LGU  Android  \n",
      "3               SKT      iOS  \n",
      "4               LGU  Android  \n",
      "...             ...      ...  \n",
      "99840           LGU      iOS  \n",
      "99841            KT  Android  \n",
      "99842           SKT      iOS  \n",
      "99843           LGU      iOS  \n",
      "99844            KT      iOS  \n",
      "\n",
      "[99845 rows x 10 columns]\n",
      "<class 'pandas.core.frame.DataFrame'>\n",
      "RangeIndex: 99845 entries, 0 to 99844\n",
      "Data columns (total 10 columns):\n",
      " #   Column         Non-Null Count  Dtype \n",
      "---  ------         --------------  ----- \n",
      " 0   Customer_ID    99845 non-null  object\n",
      " 1   Name           99845 non-null  object\n",
      " 2   Nickname       99845 non-null  object\n",
      " 3   Password       99845 non-null  object\n",
      " 4   Email          99845 non-null  object\n",
      " 5   Birth          99845 non-null  object\n",
      " 6   Gender         99845 non-null  object\n",
      " 7   C.P.           99845 non-null  object\n",
      " 8   MobileCompany  99845 non-null  object\n",
      " 9   OS             99845 non-null  object\n",
      "dtypes: object(10)\n",
      "memory usage: 7.6+ MB\n"
     ]
    }
   ],
   "source": [
    "customerlog=pd.read_csv('~/aifell/node/221103/customer.csv')\n",
    "print(customerlog)\n",
    "\n",
    "customerlog.info()"
   ]
  },
  {
   "cell_type": "code",
   "execution_count": 74,
   "metadata": {},
   "outputs": [
    {
     "data": {
      "image/png": "[encoded data removed]",
      "text/plain": [
       "<Figure size 432x288 with 1 Axes>"
      ]
     },
     "metadata": {},
     "output_type": "display_data"
    }
   ],
   "source": [
    "#고객 성별에 따른 파이그래프 그리기\n",
    "pie_data=customerlog.groupby(['Gender']).count().Name\n",
    "plt.pie(pie_data,labels=pie_data.index,autopct='%1.1f%%')\n",
    "plt.title('customer gender')\n",
    "plt.show()"
   ]
  },
  {
   "cell_type": "code",
   "execution_count": 77,
   "metadata": {},
   "outputs": [
    {
     "data": {
      "image/png": "[encoded data removed]",
      "text/plain": [
       "<Figure size 432x288 with 1 Axes>"
      ]
     },
     "metadata": {},
     "output_type": "display_data"
    }
   ],
   "source": [
    "#고객 모바일 서비스 기업에 따른 파잉 그래프\n",
    "\n",
    "pi_data=customerlog.groupby(['MobileCompany']).count().Name\n",
    "plt.pie(pi_data,labels=pi_data.index,autopct='%1.1f%%')\n",
    "plt.title('customer company')\n",
    "plt.show()"
   ]
  },
  {
   "cell_type": "code",
   "execution_count": 79,
   "metadata": {},
   "outputs": [
    {
     "data": {
      "image/png": "[encoded data removed]",
      "text/plain": [
       "<Figure size 432x288 with 1 Axes>"
      ]
     },
     "metadata": {},
     "output_type": "display_data"
    }
   ],
   "source": [
    "#고객 모바일 os에 따른 파잉 그래프\n",
    "\n",
    "pi_data=customerlog.groupby(['OS']).count().Name\n",
    "plt.pie(pi_data,labels=pi_data.index,autopct='%1.1f%%')\n",
    "plt.title('customer ')\n",
    "plt.show()"
   ]
  },
  {
   "cell_type": "markdown",
   "metadata": {},
   "source": [
    "### 결제경험이 있는 고객 시각화"
   ]
  },
  {
   "cell_type": "code",
   "execution_count": 82,
   "metadata": {},
   "outputs": [
    {
     "data": {
      "image/png": "[encoded data removed]",
      "text/plain": [
       "<Figure size 432x288 with 1 Axes>"
      ]
     },
     "metadata": {},
     "output_type": "display_data"
    }
   ],
   "source": [
    "#customer 데이터와 sales 데이터 결합\n",
    "\n",
    "totaldata=pd.merge(customerlog,saleslog)\n",
    "\n",
    "#결제 경험이 있는 고객들만 골라내기\n",
    "paymentcustomer=totaldata[(totaldata['Payment'] !=0)]\n",
    "\n",
    "#결제 경험이 있는 고객 성별에 다른 파이그래프 그리기\n",
    "pie_data=paymentcustomer.groupby([\"Gender\"]).count().Name\n",
    "plt.pie(pie_data,labels=pie_data.index,autopct='%1.1f%%')\n",
    "plt.title('payment custimer gender')\n",
    "plt.show()"
   ]
  },
  {
   "cell_type": "code",
   "execution_count": 83,
   "metadata": {},
   "outputs": [
    {
     "data": {
      "image/png": "[encoded data removed]",
      "text/plain": [
       "<Figure size 432x288 with 1 Axes>"
      ]
     },
     "metadata": {},
     "output_type": "display_data"
    }
   ],
   "source": [
    "#결제 경험이 있는 고객 모바일 서비스 기업에 따른 파이 그래프 \n",
    "pie_data=paymentcustomer.groupby(['MobileCompany']).count().Name\n",
    "plt.pie(pie_data,labels=pie_data.index,autopct='%1.1f%%')\n",
    "plt.show()"
   ]
  },
  {
   "cell_type": "code",
   "execution_count": 84,
   "metadata": {},
   "outputs": [
    {
     "data": {
      "image/png": "[encoded data removed]",
      "text/plain": [
       "<Figure size 432x288 with 1 Axes>"
      ]
     },
     "metadata": {},
     "output_type": "display_data"
    }
   ],
   "source": [
    "# 결제 경험이 있는 고객 모바일OS에 따른 파이그래프 그리기\n",
    "pie_data = paymentcustomer.groupby(['OS']).count().Name\n",
    "plt.pie(pie_data, labels=pie_data.index, autopct = '%1.1f%%')\n",
    "plt.title('Payment Customer OS')\n",
    "plt.show()"
   ]
  },
  {
   "cell_type": "markdown",
   "metadata": {},
   "source": [
    "#### 고객 성별에 따른 결제금액 월별 관찰"
   ]
  },
  {
   "cell_type": "code",
   "execution_count": 87,
   "metadata": {},
   "outputs": [
    {
     "data": {
      "text/plain": [
       "Gender  Month  \n",
       "female  2022-02    32103200\n",
       "        2022-03    25295700\n",
       "male    2022-02    48738600\n",
       "        2022-03    38305600\n",
       "Name: Payment, dtype: int64"
      ]
     },
     "execution_count": 87,
     "metadata": {},
     "output_type": "execute_result"
    }
   ],
   "source": [
    "paymentcustomer['Payment'].groupby([paymentcustomer['Gender'],paymentcustomer['Month']]).sum()\n"
   ]
  },
  {
   "cell_type": "code",
   "execution_count": 88,
   "metadata": {},
   "outputs": [],
   "source": [
    "male=paymentcustomer[paymentcustomer['Gender']=='male']\n",
    "female=paymentcustomer[paymentcustomer['Gender']=='female']"
   ]
  },
  {
   "cell_type": "code",
   "execution_count": 92,
   "metadata": {},
   "outputs": [
    {
     "ename": "SyntaxError",
     "evalue": "invalid syntax (<ipython-input-92-d383312036cf>, line 4)",
     "output_type": "error",
     "traceback": [
      "\u001b[1;36m  File \u001b[1;32m\"<ipython-input-92-d383312036cf>\"\u001b[1;36m, line \u001b[1;32m4\u001b[0m\n\u001b[1;33m    ple.bar_label(ax,labels=[f '{x:,.0f}' for x in ax.datavalues],label_type='center')\u001b[0m\n\u001b[1;37m                               ^\u001b[0m\n\u001b[1;31mSyntaxError\u001b[0m\u001b[1;31m:\u001b[0m invalid syntax\n"
     ]
    }
   ],
   "source": [
    "#월별 여성 고객 결ㅈ제 금액 시각화\n",
    "temp_data=female['Payment'].groupby(female['Month']).sum()\n",
    "ax=plt.bar(temp_data.index,temp_data)\n",
    "ple.bar_label(ax,labels=[f '{x:,.0f}' for x in ax.datavalues],label_type='center')\n",
    "plt.title('payment by female')\n",
    "plt.show()"
   ]
  },
  {
   "cell_type": "markdown",
   "metadata": {},
   "source": [
    "#### 5-2 노드 데이터 분석"
   ]
  },
  {
   "cell_type": "code",
   "execution_count": 95,
   "metadata": {},
   "outputs": [],
   "source": [
    "#pandsa numpy matplotlib seaborn 호출\n",
    "\n",
    "import pandas as pd\n",
    "import numpy as np\n",
    "import matplotlib.pyplot as plt\n",
    "plt.style.use('default')\n",
    "import seaborn as sns"
   ]
  },
  {
   "cell_type": "code",
   "execution_count": 96,
   "metadata": {},
   "outputs": [
    {
     "data": {
      "text/html": [
       "<div>\n",
       "<style scoped>\n",
       "    .dataframe tbody tr th:only-of-type {\n",
       "        vertical-align: middle;\n",
       "    }\n",
       "\n",
       "    .dataframe tbody tr th {\n",
       "        vertical-align: top;\n",
       "    }\n",
       "\n",
       "    .dataframe thead th {\n",
       "        text-align: right;\n",
       "    }\n",
       "</style>\n",
       "<table border=\"1\" class=\"dataframe\">\n",
       "  <thead>\n",
       "    <tr style=\"text-align: right;\">\n",
       "      <th></th>\n",
       "      <th>install</th>\n",
       "      <th>Time_stamp</th>\n",
       "      <th>Game_Name</th>\n",
       "      <th>Status</th>\n",
       "      <th>Payment</th>\n",
       "      <th>Customer_ID</th>\n",
       "    </tr>\n",
       "  </thead>\n",
       "  <tbody>\n",
       "    <tr>\n",
       "      <th>0</th>\n",
       "      <td>2022-01-08</td>\n",
       "      <td>2022-02-05</td>\n",
       "      <td>MineGround</td>\n",
       "      <td>play</td>\n",
       "      <td>4900</td>\n",
       "      <td>facilis140</td>\n",
       "    </tr>\n",
       "    <tr>\n",
       "      <th>1</th>\n",
       "      <td>2022-01-05</td>\n",
       "      <td>2022-02-17</td>\n",
       "      <td>MineGround</td>\n",
       "      <td>play</td>\n",
       "      <td>29900</td>\n",
       "      <td>debitis994</td>\n",
       "    </tr>\n",
       "    <tr>\n",
       "      <th>2</th>\n",
       "      <td>2022-01-29</td>\n",
       "      <td>2022-02-06</td>\n",
       "      <td>MineGround</td>\n",
       "      <td>play</td>\n",
       "      <td>4900</td>\n",
       "      <td>possimus246</td>\n",
       "    </tr>\n",
       "    <tr>\n",
       "      <th>3</th>\n",
       "      <td>2022-01-09</td>\n",
       "      <td>2022-02-05</td>\n",
       "      <td>MineGround</td>\n",
       "      <td>play</td>\n",
       "      <td>900</td>\n",
       "      <td>occaecati138</td>\n",
       "    </tr>\n",
       "    <tr>\n",
       "      <th>4</th>\n",
       "      <td>2022-01-08</td>\n",
       "      <td>2022-02-01</td>\n",
       "      <td>MineGround</td>\n",
       "      <td>play</td>\n",
       "      <td>900</td>\n",
       "      <td>corrupti325</td>\n",
       "    </tr>\n",
       "  </tbody>\n",
       "</table>\n",
       "</div>"
      ],
      "text/plain": [
       "      install  Time_stamp   Game_Name Status  Payment   Customer_ID\n",
       "0  2022-01-08  2022-02-05  MineGround   play     4900    facilis140\n",
       "1  2022-01-05  2022-02-17  MineGround   play    29900    debitis994\n",
       "2  2022-01-29  2022-02-06  MineGround   play     4900   possimus246\n",
       "3  2022-01-09  2022-02-05  MineGround   play      900  occaecati138\n",
       "4  2022-01-08  2022-02-01  MineGround   play      900   corrupti325"
      ]
     },
     "execution_count": 96,
     "metadata": {},
     "output_type": "execute_result"
    }
   ],
   "source": [
    "#sales data 변슈를 만들고 각 데이터 값을 할당\n",
    "sales_data=pd.read_csv('~/aifell/node/221103/sales_6.csv')\n",
    "\n",
    "sales_data.head()"
   ]
  },
  {
   "cell_type": "code",
   "execution_count": 103,
   "metadata": {},
   "outputs": [
    {
     "data": {
      "text/html": [
       "<div>\n",
       "<style scoped>\n",
       "    .dataframe tbody tr th:only-of-type {\n",
       "        vertical-align: middle;\n",
       "    }\n",
       "\n",
       "    .dataframe tbody tr th {\n",
       "        vertical-align: top;\n",
       "    }\n",
       "\n",
       "    .dataframe thead th {\n",
       "        text-align: right;\n",
       "    }\n",
       "</style>\n",
       "<table border=\"1\" class=\"dataframe\">\n",
       "  <thead>\n",
       "    <tr style=\"text-align: right;\">\n",
       "      <th></th>\n",
       "      <th>install</th>\n",
       "      <th>Time_stamp</th>\n",
       "      <th>Game_Name</th>\n",
       "      <th>Status</th>\n",
       "      <th>Payment</th>\n",
       "      <th>Customer_ID</th>\n",
       "      <th>date</th>\n",
       "    </tr>\n",
       "  </thead>\n",
       "  <tbody>\n",
       "    <tr>\n",
       "      <th>0</th>\n",
       "      <td>2022-01-08</td>\n",
       "      <td>2022-02-05</td>\n",
       "      <td>MineGround</td>\n",
       "      <td>play</td>\n",
       "      <td>4900</td>\n",
       "      <td>facilis140</td>\n",
       "      <td>2022-02</td>\n",
       "    </tr>\n",
       "    <tr>\n",
       "      <th>1</th>\n",
       "      <td>2022-01-05</td>\n",
       "      <td>2022-02-17</td>\n",
       "      <td>MineGround</td>\n",
       "      <td>play</td>\n",
       "      <td>29900</td>\n",
       "      <td>debitis994</td>\n",
       "      <td>2022-02</td>\n",
       "    </tr>\n",
       "    <tr>\n",
       "      <th>2</th>\n",
       "      <td>2022-01-29</td>\n",
       "      <td>2022-02-06</td>\n",
       "      <td>MineGround</td>\n",
       "      <td>play</td>\n",
       "      <td>4900</td>\n",
       "      <td>possimus246</td>\n",
       "      <td>2022-02</td>\n",
       "    </tr>\n",
       "    <tr>\n",
       "      <th>3</th>\n",
       "      <td>2022-01-09</td>\n",
       "      <td>2022-02-05</td>\n",
       "      <td>MineGround</td>\n",
       "      <td>play</td>\n",
       "      <td>900</td>\n",
       "      <td>occaecati138</td>\n",
       "      <td>2022-02</td>\n",
       "    </tr>\n",
       "    <tr>\n",
       "      <th>4</th>\n",
       "      <td>2022-01-08</td>\n",
       "      <td>2022-02-01</td>\n",
       "      <td>MineGround</td>\n",
       "      <td>play</td>\n",
       "      <td>900</td>\n",
       "      <td>corrupti325</td>\n",
       "      <td>2022-02</td>\n",
       "    </tr>\n",
       "  </tbody>\n",
       "</table>\n",
       "</div>"
      ],
      "text/plain": [
       "      install  Time_stamp   Game_Name Status  Payment   Customer_ID     date\n",
       "0  2022-01-08  2022-02-05  MineGround   play     4900    facilis140  2022-02\n",
       "1  2022-01-05  2022-02-17  MineGround   play    29900    debitis994  2022-02\n",
       "2  2022-01-29  2022-02-06  MineGround   play     4900   possimus246  2022-02\n",
       "3  2022-01-09  2022-02-05  MineGround   play      900  occaecati138  2022-02\n",
       "4  2022-01-08  2022-02-01  MineGround   play      900   corrupti325  2022-02"
      ]
     },
     "execution_count": 103,
     "metadata": {},
     "output_type": "execute_result"
    }
   ],
   "source": [
    "#월별 게임 설치/플레이 횟수\n",
    "\n",
    "sales_data['date']=sales_data['Time_stamp'].str[:7]\n",
    "sales_data.head()"
   ]
  },
  {
   "cell_type": "code",
   "execution_count": 105,
   "metadata": {},
   "outputs": [
    {
     "data": {
      "text/plain": [
       "2022-03    50465\n",
       "2022-02    49380\n",
       "Name: date, dtype: int64"
      ]
     },
     "execution_count": 105,
     "metadata": {},
     "output_type": "execute_result"
    }
   ],
   "source": [
    "sales_data['date'].value_counts()"
   ]
  },
  {
   "cell_type": "code",
   "execution_count": 109,
   "metadata": {},
   "outputs": [
    {
     "ename": "AttributeError",
     "evalue": "'AxesSubplot' object has no attribute 'bar_label'",
     "output_type": "error",
     "traceback": [
      "\u001b[1;31m---------------------------------------------------------------------------\u001b[0m",
      "\u001b[1;31mAttributeError\u001b[0m                            Traceback (most recent call last)",
      "\u001b[1;32m<ipython-input-109-9863d65e337c>\u001b[0m in \u001b[0;36m<module>\u001b[1;34m\u001b[0m\n\u001b[0;32m      3\u001b[0m \u001b[1;33m\u001b[0m\u001b[0m\n\u001b[0;32m      4\u001b[0m \u001b[0mcontainers\u001b[0m \u001b[1;33m=\u001b[0m \u001b[0max\u001b[0m\u001b[1;33m.\u001b[0m\u001b[0mcontainers\u001b[0m\u001b[1;33m[\u001b[0m\u001b[1;36m0\u001b[0m\u001b[1;33m]\u001b[0m\u001b[1;33m\u001b[0m\u001b[1;33m\u001b[0m\u001b[0m\n\u001b[1;32m----> 5\u001b[1;33m \u001b[0max\u001b[0m\u001b[1;33m.\u001b[0m\u001b[0mbar_label\u001b[0m\u001b[1;33m(\u001b[0m\u001b[0mcontainers\u001b[0m\u001b[1;33m,\u001b[0m \u001b[0mlabels\u001b[0m\u001b[1;33m=\u001b[0m\u001b[1;33m[\u001b[0m\u001b[1;34mf'{x:,.0f}'\u001b[0m \u001b[1;32mfor\u001b[0m \u001b[0mx\u001b[0m \u001b[1;32min\u001b[0m \u001b[0mcontainers\u001b[0m\u001b[1;33m.\u001b[0m\u001b[0mdatavalues\u001b[0m\u001b[1;33m]\u001b[0m\u001b[1;33m,\u001b[0m \u001b[0mlabel_type\u001b[0m\u001b[1;33m=\u001b[0m\u001b[1;34m'center'\u001b[0m\u001b[1;33m)\u001b[0m\u001b[1;33m\u001b[0m\u001b[1;33m\u001b[0m\u001b[0m\n\u001b[0m\u001b[0;32m      6\u001b[0m \u001b[0mcontainers0\u001b[0m \u001b[1;33m=\u001b[0m \u001b[0max\u001b[0m\u001b[1;33m.\u001b[0m\u001b[0mcontainers\u001b[0m\u001b[1;33m[\u001b[0m\u001b[1;33m-\u001b[0m\u001b[1;36m1\u001b[0m\u001b[1;33m]\u001b[0m\u001b[1;33m\u001b[0m\u001b[1;33m\u001b[0m\u001b[0m\n\u001b[0;32m      7\u001b[0m \u001b[0max\u001b[0m\u001b[1;33m.\u001b[0m\u001b[0mbar_label\u001b[0m\u001b[1;33m(\u001b[0m\u001b[0mcontainers0\u001b[0m\u001b[1;33m,\u001b[0m \u001b[0mlabels\u001b[0m\u001b[1;33m=\u001b[0m\u001b[1;33m[\u001b[0m\u001b[1;34mf'{x:,.0f}'\u001b[0m \u001b[1;32mfor\u001b[0m \u001b[0mx\u001b[0m \u001b[1;32min\u001b[0m \u001b[0mcontainers0\u001b[0m\u001b[1;33m.\u001b[0m\u001b[0mdatavalues\u001b[0m\u001b[1;33m]\u001b[0m\u001b[1;33m,\u001b[0m \u001b[0mlabel_type\u001b[0m\u001b[1;33m=\u001b[0m\u001b[1;34m'center'\u001b[0m\u001b[1;33m)\u001b[0m\u001b[1;33m\u001b[0m\u001b[1;33m\u001b[0m\u001b[0m\n",
      "\u001b[1;31mAttributeError\u001b[0m: 'AxesSubplot' object has no attribute 'bar_label'"
     ]
    },
    {
     "data": {
      "image/png": "[encoded data removed]",
      "text/plain": [
       "<Figure size 640x480 with 1 Axes>"
      ]
     },
     "metadata": {},
     "output_type": "display_data"
    }
   ],
   "source": [
    "# 월별 고객 수 현황 시각화하기\n",
    "ax = sns.countplot(data=sales_data, x='date')\n",
    "\n",
    "containers = ax.containers[0]\n",
    "ax.bar_label(containers, labels=[f'{x:,.0f}' for x in containers.datavalues], label_type='center')\n",
    "containers0 = ax.containers[-1]\n",
    "ax.bar_label(containers0, labels=[f'{x:,.0f}' for x in containers0.datavalues], label_type='center')\n",
    "plt.title('Customer By Month')\n",
    "\n",
    "plt.show()"
   ]
  },
  {
   "cell_type": "code",
   "execution_count": 113,
   "metadata": {},
   "outputs": [
    {
     "data": {
      "text/plain": [
       "date     Game_Name    \n",
       "2022-02  MineGround       27721\n",
       "         SoccerManager    21659\n",
       "2022-03  MineGround       32192\n",
       "         SoccerManager    18273\n",
       "Name: Status, dtype: int64"
      ]
     },
     "execution_count": 113,
     "metadata": {},
     "output_type": "execute_result"
    }
   ],
   "source": [
    "#월별 각 게임 고객수 분류하기\n",
    "grouped=sales_data['Status'].groupby([sales_data['date'],sales_data['Game_Name']]).count()\n",
    "grouped"
   ]
  },
  {
   "cell_type": "code",
   "execution_count": 115,
   "metadata": {},
   "outputs": [
    {
     "ename": "AttributeError",
     "evalue": "'AxesSubplot' object has no attribute 'bar_label'",
     "output_type": "error",
     "traceback": [
      "\u001b[1;31m---------------------------------------------------------------------------\u001b[0m",
      "\u001b[1;31mAttributeError\u001b[0m                            Traceback (most recent call last)",
      "\u001b[1;32m<ipython-input-115-98e4d7cd377e>\u001b[0m in \u001b[0;36m<module>\u001b[1;34m\u001b[0m\n\u001b[0;32m      7\u001b[0m \u001b[0mcontainers\u001b[0m\u001b[1;33m=\u001b[0m\u001b[0max\u001b[0m\u001b[1;33m.\u001b[0m\u001b[0mcontainers\u001b[0m\u001b[1;33m[\u001b[0m\u001b[1;33m-\u001b[0m\u001b[1;36m1\u001b[0m\u001b[1;33m]\u001b[0m\u001b[1;33m\u001b[0m\u001b[1;33m\u001b[0m\u001b[0m\n\u001b[0;32m      8\u001b[0m \u001b[0mcontainers0\u001b[0m\u001b[1;33m=\u001b[0m\u001b[0max\u001b[0m\u001b[1;33m.\u001b[0m\u001b[0mcontainers\u001b[0m\u001b[1;33m[\u001b[0m\u001b[1;36m0\u001b[0m\u001b[1;33m]\u001b[0m\u001b[1;33m\u001b[0m\u001b[1;33m\u001b[0m\u001b[0m\n\u001b[1;32m----> 9\u001b[1;33m \u001b[0max\u001b[0m\u001b[1;33m.\u001b[0m\u001b[0mbar_label\u001b[0m\u001b[1;33m(\u001b[0m\u001b[0mcontainers\u001b[0m\u001b[1;33m,\u001b[0m\u001b[0mlabels\u001b[0m\u001b[1;33m=\u001b[0m\u001b[1;33m[\u001b[0m\u001b[1;34mf'{x:,.0f}'\u001b[0m \u001b[1;32mfor\u001b[0m \u001b[0mx\u001b[0m \u001b[1;32min\u001b[0m \u001b[0mcontainers\u001b[0m\u001b[1;33m.\u001b[0m\u001b[0mdatavalues\u001b[0m\u001b[1;33m]\u001b[0m\u001b[1;33m,\u001b[0m \u001b[0mlabel_type\u001b[0m\u001b[1;33m=\u001b[0m\u001b[1;34m'center'\u001b[0m\u001b[1;33m)\u001b[0m\u001b[1;33m\u001b[0m\u001b[1;33m\u001b[0m\u001b[0m\n\u001b[0m\u001b[0;32m     10\u001b[0m \u001b[0max\u001b[0m\u001b[1;33m.\u001b[0m\u001b[0mbar_label\u001b[0m\u001b[1;33m(\u001b[0m\u001b[0mcontainers0\u001b[0m\u001b[1;33m,\u001b[0m\u001b[0mlabels\u001b[0m\u001b[1;33m=\u001b[0m\u001b[1;33m[\u001b[0m\u001b[1;34mf'{x:,.0f}'\u001b[0m \u001b[1;32mfor\u001b[0m \u001b[0mx\u001b[0m \u001b[1;32min\u001b[0m \u001b[0mcontainers0\u001b[0m\u001b[1;33m.\u001b[0m\u001b[0mdatavalues\u001b[0m\u001b[1;33m]\u001b[0m\u001b[1;33m,\u001b[0m\u001b[0mlabel_type\u001b[0m\u001b[1;33m=\u001b[0m\u001b[1;34m'center'\u001b[0m\u001b[1;33m)\u001b[0m\u001b[1;33m\u001b[0m\u001b[1;33m\u001b[0m\u001b[0m\n\u001b[0;32m     11\u001b[0m \u001b[0mplt\u001b[0m\u001b[1;33m.\u001b[0m\u001b[0mtitle\u001b[0m\u001b[1;33m(\u001b[0m\u001b[1;34m\"customer count by game\"\u001b[0m\u001b[1;33m)\u001b[0m\u001b[1;33m\u001b[0m\u001b[1;33m\u001b[0m\u001b[0m\n",
      "\u001b[1;31mAttributeError\u001b[0m: 'AxesSubplot' object has no attribute 'bar_label'"
     ]
    },
    {
     "data": {
      "image/png": "[encoded data removed]",
      "text/plain": [
       "<Figure size 640x480 with 1 Axes>"
      ]
     },
     "metadata": {},
     "output_type": "display_data"
    }
   ],
   "source": [
    "#매출은 줄었지만 고객이 늘음\n",
    "\n",
    "#월별 고객 수 시각화하기\n",
    "\n",
    "ax=sns.barplot(data=grouped.reset_index(),x='date',y='Status',hue='Game_Name')\n",
    "\n",
    "containers=ax.containers[-1]\n",
    "containers0=ax.containers[0]\n",
    "ax.bar_label(containers,labels=[f'{x:,.0f}' for x in containers.datavalues], label_type='center')\n",
    "ax.bar_label(containers0,labels=[f'{x:,.0f}' for x in containers0.datavalues],label_type='center')\n",
    "plt.title(\"customer count by game\")\n",
    "plt.show()"
   ]
  },
  {
   "cell_type": "code",
   "execution_count": 118,
   "metadata": {},
   "outputs": [
    {
     "data": {
      "text/plain": [
       "play       84821\n",
       "install    15024\n",
       "Name: Status, dtype: int64"
      ]
     },
     "execution_count": 118,
     "metadata": {},
     "output_type": "execute_result"
    }
   ],
   "source": [
    "#mine ground 게임 고객은 증가\n",
    "#source manager 고객은 감소\n",
    "\n",
    "#게임을 플레이한 고객과 설치한 고객 분류\n",
    "sales_data['Status'].value_counts()"
   ]
  },
  {
   "cell_type": "code",
   "execution_count": 120,
   "metadata": {},
   "outputs": [
    {
     "ename": "AttributeError",
     "evalue": "'AxesSubplot' object has no attribute 'bar_label'",
     "output_type": "error",
     "traceback": [
      "\u001b[1;31m---------------------------------------------------------------------------\u001b[0m",
      "\u001b[1;31mAttributeError\u001b[0m                            Traceback (most recent call last)",
      "\u001b[1;32m<ipython-input-120-87b14ec7368b>\u001b[0m in \u001b[0;36m<module>\u001b[1;34m\u001b[0m\n\u001b[0;32m      3\u001b[0m \u001b[0mcontainers\u001b[0m\u001b[1;33m=\u001b[0m\u001b[0max\u001b[0m\u001b[1;33m.\u001b[0m\u001b[0mcontainers\u001b[0m\u001b[1;33m[\u001b[0m\u001b[1;33m-\u001b[0m\u001b[1;36m1\u001b[0m\u001b[1;33m]\u001b[0m\u001b[1;33m\u001b[0m\u001b[1;33m\u001b[0m\u001b[0m\n\u001b[0;32m      4\u001b[0m \u001b[0mcontainers0\u001b[0m\u001b[1;33m=\u001b[0m\u001b[0max\u001b[0m\u001b[1;33m.\u001b[0m\u001b[0mcontainers\u001b[0m\u001b[1;33m[\u001b[0m\u001b[1;36m0\u001b[0m\u001b[1;33m]\u001b[0m\u001b[1;33m\u001b[0m\u001b[1;33m\u001b[0m\u001b[0m\n\u001b[1;32m----> 5\u001b[1;33m \u001b[0max\u001b[0m\u001b[1;33m.\u001b[0m\u001b[0mbar_label\u001b[0m\u001b[1;33m(\u001b[0m\u001b[0mcontainers\u001b[0m\u001b[1;33m,\u001b[0m\u001b[0mlabels\u001b[0m\u001b[1;33m=\u001b[0m\u001b[1;33m[\u001b[0m\u001b[1;34mf'{x:,.0f}'\u001b[0m \u001b[1;32mfor\u001b[0m \u001b[0mx\u001b[0m \u001b[1;32min\u001b[0m \u001b[0mcontainers\u001b[0m\u001b[1;33m.\u001b[0m\u001b[0mdatavalues\u001b[0m\u001b[1;33m]\u001b[0m\u001b[1;33m,\u001b[0m \u001b[0mlabel_type\u001b[0m\u001b[1;33m=\u001b[0m\u001b[1;34m'center'\u001b[0m\u001b[1;33m)\u001b[0m\u001b[1;33m\u001b[0m\u001b[1;33m\u001b[0m\u001b[0m\n\u001b[0m\u001b[0;32m      6\u001b[0m \u001b[0max\u001b[0m\u001b[1;33m.\u001b[0m\u001b[0mbar_label\u001b[0m\u001b[1;33m(\u001b[0m\u001b[0mcontainers0\u001b[0m\u001b[1;33m,\u001b[0m\u001b[0mlabels\u001b[0m\u001b[1;33m=\u001b[0m\u001b[1;33m[\u001b[0m\u001b[1;34mf'{x:,.0f}'\u001b[0m \u001b[1;32mfor\u001b[0m \u001b[0mx\u001b[0m \u001b[1;32min\u001b[0m \u001b[0mcontainers0\u001b[0m\u001b[1;33m.\u001b[0m\u001b[0mdatavalues\u001b[0m\u001b[1;33m]\u001b[0m\u001b[1;33m,\u001b[0m\u001b[0mlabel_type\u001b[0m\u001b[1;33m=\u001b[0m\u001b[1;34m'center'\u001b[0m\u001b[1;33m)\u001b[0m\u001b[1;33m\u001b[0m\u001b[1;33m\u001b[0m\u001b[0m\n\u001b[0;32m      7\u001b[0m \u001b[0mplt\u001b[0m\u001b[1;33m.\u001b[0m\u001b[0mtitle\u001b[0m\u001b[1;33m(\u001b[0m\u001b[1;34m\"customer  by real play\"\u001b[0m\u001b[1;33m)\u001b[0m\u001b[1;33m\u001b[0m\u001b[1;33m\u001b[0m\u001b[0m\n",
      "\u001b[1;31mAttributeError\u001b[0m: 'AxesSubplot' object has no attribute 'bar_label'"
     ]
    },
    {
     "data": {
      "image/png": "[encoded data removed]",
      "text/plain": [
       "<Figure size 640x480 with 1 Axes>"
      ]
     },
     "metadata": {},
     "output_type": "display_data"
    }
   ],
   "source": [
    "ax=sns.countplot(data=sales_data,x='date',hue='Status')\n",
    "\n",
    "containers=ax.containers[-1]\n",
    "containers0=ax.containers[0]\n",
    "ax.bar_label(containers,labels=[f'{x:,.0f}' for x in containers.datavalues], label_type='center')\n",
    "ax.bar_label(containers0,labels=[f'{x:,.0f}' for x in containers0.datavalues],label_type='center')\n",
    "plt.title(\"customer  by real play\")\n",
    "plt.show()"
   ]
  },
  {
   "cell_type": "markdown",
   "metadata": {},
   "source": [
    "인스톨한 고객은 늘어낫지만 플렝한 고객은 감소"
   ]
  },
  {
   "cell_type": "code",
   "execution_count": 121,
   "metadata": {},
   "outputs": [
    {
     "data": {
      "text/plain": [
       "2022-02    8542\n",
       "2022-03    6898\n",
       "Name: date, dtype: int64"
      ]
     },
     "execution_count": 121,
     "metadata": {},
     "output_type": "execute_result"
    }
   ],
   "source": [
    "#월별 결제 수\n",
    "temp_data=sales_data[sales_data['Payment']!=0]\n",
    "temp_data['date'].value_counts()"
   ]
  },
  {
   "cell_type": "code",
   "execution_count": 122,
   "metadata": {},
   "outputs": [
    {
     "ename": "AttributeError",
     "evalue": "'AxesSubplot' object has no attribute 'bae_label'",
     "output_type": "error",
     "traceback": [
      "\u001b[1;31m---------------------------------------------------------------------------\u001b[0m",
      "\u001b[1;31mAttributeError\u001b[0m                            Traceback (most recent call last)",
      "\u001b[1;32m<ipython-input-122-29a96c95731c>\u001b[0m in \u001b[0;36m<module>\u001b[1;34m\u001b[0m\n\u001b[0;32m      2\u001b[0m \u001b[0max\u001b[0m\u001b[1;33m=\u001b[0m\u001b[0msns\u001b[0m\u001b[1;33m.\u001b[0m\u001b[0mcountplot\u001b[0m\u001b[1;33m(\u001b[0m\u001b[0mdata\u001b[0m\u001b[1;33m=\u001b[0m\u001b[0mtemp_data\u001b[0m\u001b[1;33m,\u001b[0m\u001b[0mx\u001b[0m\u001b[1;33m=\u001b[0m\u001b[1;34m'date'\u001b[0m\u001b[1;33m)\u001b[0m\u001b[1;33m\u001b[0m\u001b[1;33m\u001b[0m\u001b[0m\n\u001b[0;32m      3\u001b[0m \u001b[0mcontainers\u001b[0m\u001b[1;33m=\u001b[0m\u001b[0max\u001b[0m\u001b[1;33m.\u001b[0m\u001b[0mcontainers\u001b[0m\u001b[1;33m[\u001b[0m\u001b[1;36m0\u001b[0m\u001b[1;33m]\u001b[0m\u001b[1;33m\u001b[0m\u001b[1;33m\u001b[0m\u001b[0m\n\u001b[1;32m----> 4\u001b[1;33m \u001b[0max\u001b[0m\u001b[1;33m.\u001b[0m\u001b[0mbae_label\u001b[0m\u001b[1;33m(\u001b[0m\u001b[0mcontainers\u001b[0m\u001b[1;33m,\u001b[0m\u001b[0mlabels\u001b[0m\u001b[1;33m=\u001b[0m\u001b[1;33m[\u001b[0m\u001b[1;34mf'{x:,.0f}'\u001b[0m \u001b[1;32mfor\u001b[0m \u001b[0mx\u001b[0m \u001b[1;32min\u001b[0m \u001b[0mcontainers\u001b[0m\u001b[1;33m.\u001b[0m\u001b[0mdatavalues\u001b[0m\u001b[1;33m]\u001b[0m\u001b[1;33m,\u001b[0m\u001b[0mlabel_type\u001b[0m\u001b[1;33m=\u001b[0m\u001b[1;34m'center'\u001b[0m\u001b[1;33m)\u001b[0m\u001b[1;33m\u001b[0m\u001b[1;33m\u001b[0m\u001b[0m\n\u001b[0m\u001b[0;32m      5\u001b[0m \u001b[0mplt\u001b[0m\u001b[1;33m.\u001b[0m\u001b[0mtitle\u001b[0m\u001b[1;33m(\u001b[0m\u001b[1;34m'payment counts iby month'\u001b[0m\u001b[1;33m)\u001b[0m\u001b[1;33m\u001b[0m\u001b[1;33m\u001b[0m\u001b[0m\n\u001b[0;32m      6\u001b[0m \u001b[0mplt\u001b[0m\u001b[1;33m.\u001b[0m\u001b[0mshow\u001b[0m\u001b[1;33m(\u001b[0m\u001b[1;33m)\u001b[0m\u001b[1;33m\u001b[0m\u001b[1;33m\u001b[0m\u001b[0m\n",
      "\u001b[1;31mAttributeError\u001b[0m: 'AxesSubplot' object has no attribute 'bae_label'"
     ]
    },
    {
     "data": {
      "image/png": "[encoded data removed]",
      "text/plain": [
       "<Figure size 640x480 with 1 Axes>"
      ]
     },
     "metadata": {},
     "output_type": "display_data"
    }
   ],
   "source": [
    "#월별 결제 횟수 시각화\n",
    "ax=sns.countplot(data=temp_data,x='date')\n",
    "containers=ax.containers[0]\n",
    "ax.bae_label(containers,labels=[f'{x:,.0f}' for x in containers.datavalues],label_type='center')\n",
    "plt.title('payment counts iby month')\n",
    "plt.show()"
   ]
  },
  {
   "cell_type": "code",
   "execution_count": 123,
   "metadata": {},
   "outputs": [
    {
     "data": {
      "text/plain": [
       "date     Game_Name    \n",
       "2022-02  MineGround       4318\n",
       "         SoccerManager    4224\n",
       "2022-03  MineGround       3762\n",
       "         SoccerManager    3136\n",
       "Name: Payment, dtype: int64"
      ]
     },
     "execution_count": 123,
     "metadata": {},
     "output_type": "execute_result"
    }
   ],
   "source": [
    "# 결제 갯수 떨어짐\n",
    "\n",
    "#각 게임별 결제 건수 확인\n",
    "grouped=temp_data['Payment'].groupby([temp_data['date'],temp_data['Game_Name']]).count()\n",
    "grouped"
   ]
  },
  {
   "cell_type": "code",
   "execution_count": 125,
   "metadata": {},
   "outputs": [
    {
     "ename": "AttributeError",
     "evalue": "'AxesSubplot' object has no attribute 'bar_label'",
     "output_type": "error",
     "traceback": [
      "\u001b[1;31m---------------------------------------------------------------------------\u001b[0m",
      "\u001b[1;31mAttributeError\u001b[0m                            Traceback (most recent call last)",
      "\u001b[1;32m<ipython-input-125-365d3ca4bb27>\u001b[0m in \u001b[0;36m<module>\u001b[1;34m\u001b[0m\n\u001b[0;32m      4\u001b[0m \u001b[0mcontainers\u001b[0m \u001b[1;33m=\u001b[0m \u001b[0max\u001b[0m\u001b[1;33m.\u001b[0m\u001b[0mcontainers\u001b[0m\u001b[1;33m[\u001b[0m\u001b[1;33m-\u001b[0m\u001b[1;36m1\u001b[0m\u001b[1;33m]\u001b[0m\u001b[1;33m\u001b[0m\u001b[1;33m\u001b[0m\u001b[0m\n\u001b[0;32m      5\u001b[0m \u001b[0mcontainers0\u001b[0m \u001b[1;33m=\u001b[0m \u001b[0max\u001b[0m\u001b[1;33m.\u001b[0m\u001b[0mcontainers\u001b[0m\u001b[1;33m[\u001b[0m\u001b[1;36m0\u001b[0m\u001b[1;33m]\u001b[0m\u001b[1;33m\u001b[0m\u001b[1;33m\u001b[0m\u001b[0m\n\u001b[1;32m----> 6\u001b[1;33m \u001b[0max\u001b[0m\u001b[1;33m.\u001b[0m\u001b[0mbar_label\u001b[0m\u001b[1;33m(\u001b[0m\u001b[0mcontainers\u001b[0m\u001b[1;33m,\u001b[0m \u001b[0mlabels\u001b[0m\u001b[1;33m=\u001b[0m\u001b[1;33m[\u001b[0m\u001b[1;34mf'{x:,.0f}'\u001b[0m \u001b[1;32mfor\u001b[0m \u001b[0mx\u001b[0m \u001b[1;32min\u001b[0m \u001b[0mcontainers\u001b[0m\u001b[1;33m.\u001b[0m\u001b[0mdatavalues\u001b[0m\u001b[1;33m]\u001b[0m\u001b[1;33m,\u001b[0m \u001b[0mlabel_type\u001b[0m\u001b[1;33m=\u001b[0m\u001b[1;34m'center'\u001b[0m\u001b[1;33m)\u001b[0m\u001b[1;33m\u001b[0m\u001b[1;33m\u001b[0m\u001b[0m\n\u001b[0m\u001b[0;32m      7\u001b[0m \u001b[0max\u001b[0m\u001b[1;33m.\u001b[0m\u001b[0mbar_label\u001b[0m\u001b[1;33m(\u001b[0m\u001b[0mcontainers0\u001b[0m\u001b[1;33m,\u001b[0m \u001b[0mlabels\u001b[0m\u001b[1;33m=\u001b[0m\u001b[1;33m[\u001b[0m\u001b[1;34mf'{x:,.0f}'\u001b[0m \u001b[1;32mfor\u001b[0m \u001b[0mx\u001b[0m \u001b[1;32min\u001b[0m \u001b[0mcontainers0\u001b[0m\u001b[1;33m.\u001b[0m\u001b[0mdatavalues\u001b[0m\u001b[1;33m]\u001b[0m\u001b[1;33m,\u001b[0m \u001b[0mlabel_type\u001b[0m\u001b[1;33m=\u001b[0m\u001b[1;34m'center'\u001b[0m\u001b[1;33m)\u001b[0m\u001b[1;33m\u001b[0m\u001b[1;33m\u001b[0m\u001b[0m\n\u001b[0;32m      8\u001b[0m \u001b[0mplt\u001b[0m\u001b[1;33m.\u001b[0m\u001b[0mtitle\u001b[0m\u001b[1;33m(\u001b[0m\u001b[1;34m'Payment Count By Game'\u001b[0m\u001b[1;33m)\u001b[0m\u001b[1;33m\u001b[0m\u001b[1;33m\u001b[0m\u001b[0m\n",
      "\u001b[1;31mAttributeError\u001b[0m: 'AxesSubplot' object has no attribute 'bar_label'"
     ]
    },
    {
     "data": {
      "image/png": "[encoded data removed]",
      "text/plain": [
       "<Figure size 640x480 with 1 Axes>"
      ]
     },
     "metadata": {},
     "output_type": "display_data"
    }
   ],
   "source": [
    "#각 게임별 결제 건수 시각화\n",
    "ax=sns.barplot(data=grouped.reset_index(), x='date', y='Payment', hue='Game_Name')\n",
    "\n",
    "containers = ax.containers[-1]\n",
    "containers0 = ax.containers[0]\n",
    "ax.bar_label(containers, labels=[f'{x:,.0f}' for x in containers.datavalues], label_type='center')\n",
    "ax.bar_label(containers0, labels=[f'{x:,.0f}' for x in containers0.datavalues], label_type='center')\n",
    "plt.title('Payment Count By Game')\n",
    "plt.show()"
   ]
  },
  {
   "cell_type": "code",
   "execution_count": 127,
   "metadata": {},
   "outputs": [
    {
     "data": {
      "text/plain": [
       "date     Game_Name    \n",
       "2022-02  MineGround       42114200\n",
       "         SoccerManager    38727600\n",
       "2022-03  MineGround       38722800\n",
       "         SoccerManager    29638400\n",
       "Name: Payment, dtype: int64"
      ]
     },
     "execution_count": 127,
     "metadata": {},
     "output_type": "execute_result"
    }
   ],
   "source": [
    "#각 게임별 결제 금액 \n",
    "grouped=temp_data['Payment'].groupby([temp_data['date'],temp_data['Game_Name']]).sum()\n",
    "grouped"
   ]
  },
  {
   "cell_type": "code",
   "execution_count": 129,
   "metadata": {},
   "outputs": [
    {
     "ename": "AttributeError",
     "evalue": "'AxesSubplot' object has no attribute 'bar_label'",
     "output_type": "error",
     "traceback": [
      "\u001b[1;31m---------------------------------------------------------------------------\u001b[0m",
      "\u001b[1;31mAttributeError\u001b[0m                            Traceback (most recent call last)",
      "\u001b[1;32m<ipython-input-129-378a53703630>\u001b[0m in \u001b[0;36m<module>\u001b[1;34m\u001b[0m\n\u001b[0;32m      3\u001b[0m \u001b[0mcontainers\u001b[0m \u001b[1;33m=\u001b[0m \u001b[0max\u001b[0m\u001b[1;33m.\u001b[0m\u001b[0mcontainers\u001b[0m\u001b[1;33m[\u001b[0m\u001b[1;33m-\u001b[0m\u001b[1;36m1\u001b[0m\u001b[1;33m]\u001b[0m\u001b[1;33m\u001b[0m\u001b[1;33m\u001b[0m\u001b[0m\n\u001b[0;32m      4\u001b[0m \u001b[0mcontainers0\u001b[0m \u001b[1;33m=\u001b[0m \u001b[0max\u001b[0m\u001b[1;33m.\u001b[0m\u001b[0mcontainers\u001b[0m\u001b[1;33m[\u001b[0m\u001b[1;36m0\u001b[0m\u001b[1;33m]\u001b[0m\u001b[1;33m\u001b[0m\u001b[1;33m\u001b[0m\u001b[0m\n\u001b[1;32m----> 5\u001b[1;33m \u001b[0max\u001b[0m\u001b[1;33m.\u001b[0m\u001b[0mbar_label\u001b[0m\u001b[1;33m(\u001b[0m\u001b[0mcontainers\u001b[0m\u001b[1;33m,\u001b[0m \u001b[0mlabels\u001b[0m\u001b[1;33m=\u001b[0m\u001b[1;33m[\u001b[0m\u001b[1;34mf'{x:,.0f}'\u001b[0m \u001b[1;32mfor\u001b[0m \u001b[0mx\u001b[0m \u001b[1;32min\u001b[0m \u001b[0mcontainers\u001b[0m\u001b[1;33m.\u001b[0m\u001b[0mdatavalues\u001b[0m\u001b[1;33m]\u001b[0m\u001b[1;33m,\u001b[0m \u001b[0mlabel_type\u001b[0m\u001b[1;33m=\u001b[0m\u001b[1;34m'center'\u001b[0m\u001b[1;33m)\u001b[0m\u001b[1;33m\u001b[0m\u001b[1;33m\u001b[0m\u001b[0m\n\u001b[0m\u001b[0;32m      6\u001b[0m \u001b[0max\u001b[0m\u001b[1;33m.\u001b[0m\u001b[0mbar_label\u001b[0m\u001b[1;33m(\u001b[0m\u001b[0mcontainers0\u001b[0m\u001b[1;33m,\u001b[0m \u001b[0mlabels\u001b[0m\u001b[1;33m=\u001b[0m\u001b[1;33m[\u001b[0m\u001b[1;34mf'{x:,.0f}'\u001b[0m \u001b[1;32mfor\u001b[0m \u001b[0mx\u001b[0m \u001b[1;32min\u001b[0m \u001b[0mcontainers0\u001b[0m\u001b[1;33m.\u001b[0m\u001b[0mdatavalues\u001b[0m\u001b[1;33m]\u001b[0m\u001b[1;33m,\u001b[0m \u001b[0mlabel_type\u001b[0m\u001b[1;33m=\u001b[0m\u001b[1;34m'center'\u001b[0m\u001b[1;33m)\u001b[0m\u001b[1;33m\u001b[0m\u001b[1;33m\u001b[0m\u001b[0m\n\u001b[0;32m      7\u001b[0m \u001b[0mplt\u001b[0m\u001b[1;33m.\u001b[0m\u001b[0mtitle\u001b[0m\u001b[1;33m(\u001b[0m\u001b[1;34m'Payment Count By Game'\u001b[0m\u001b[1;33m)\u001b[0m\u001b[1;33m\u001b[0m\u001b[1;33m\u001b[0m\u001b[0m\n",
      "\u001b[1;31mAttributeError\u001b[0m: 'AxesSubplot' object has no attribute 'bar_label'"
     ]
    },
    {
     "data": {
      "image/png": "[encoded data removed]",
      "text/plain": [
       "<Figure size 640x480 with 1 Axes>"
      ]
     },
     "metadata": {},
     "output_type": "display_data"
    }
   ],
   "source": [
    "ax=sns.barplot(data=grouped.reset_index(), x='date', y='Payment', hue='Game_Name')\n",
    "\n",
    "containers = ax.containers[-1]\n",
    "containers0 = ax.containers[0]\n",
    "ax.bar_label(containers, labels=[f'{x:,.0f}' for x in containers.datavalues], label_type='center')\n",
    "ax.bar_label(containers0, labels=[f'{x:,.0f}' for x in containers0.datavalues], label_type='center')\n",
    "plt.title('Payment Count By Game')\n",
    "plt.show()"
   ]
  },
  {
   "cell_type": "code",
   "execution_count": 131,
   "metadata": {},
   "outputs": [
    {
     "data": {
      "text/html": [
       "<div>\n",
       "<style scoped>\n",
       "    .dataframe tbody tr th:only-of-type {\n",
       "        vertical-align: middle;\n",
       "    }\n",
       "\n",
       "    .dataframe tbody tr th {\n",
       "        vertical-align: top;\n",
       "    }\n",
       "\n",
       "    .dataframe thead th {\n",
       "        text-align: right;\n",
       "    }\n",
       "</style>\n",
       "<table border=\"1\" class=\"dataframe\">\n",
       "  <thead>\n",
       "    <tr style=\"text-align: right;\">\n",
       "      <th></th>\n",
       "      <th>install</th>\n",
       "      <th>Time_stamp</th>\n",
       "      <th>Game_Name</th>\n",
       "      <th>Status</th>\n",
       "      <th>Payment</th>\n",
       "      <th>Customer_ID</th>\n",
       "      <th>date</th>\n",
       "    </tr>\n",
       "  </thead>\n",
       "  <tbody>\n",
       "    <tr>\n",
       "      <th>0</th>\n",
       "      <td>2022-01-08</td>\n",
       "      <td>2022-02-05</td>\n",
       "      <td>MineGround</td>\n",
       "      <td>play</td>\n",
       "      <td>4900</td>\n",
       "      <td>facilis140</td>\n",
       "      <td>2022-02</td>\n",
       "    </tr>\n",
       "    <tr>\n",
       "      <th>1</th>\n",
       "      <td>2022-01-05</td>\n",
       "      <td>2022-02-17</td>\n",
       "      <td>MineGround</td>\n",
       "      <td>play</td>\n",
       "      <td>29900</td>\n",
       "      <td>debitis994</td>\n",
       "      <td>2022-02</td>\n",
       "    </tr>\n",
       "    <tr>\n",
       "      <th>2</th>\n",
       "      <td>2022-01-29</td>\n",
       "      <td>2022-02-06</td>\n",
       "      <td>MineGround</td>\n",
       "      <td>play</td>\n",
       "      <td>4900</td>\n",
       "      <td>possimus246</td>\n",
       "      <td>2022-02</td>\n",
       "    </tr>\n",
       "    <tr>\n",
       "      <th>3</th>\n",
       "      <td>2022-01-09</td>\n",
       "      <td>2022-02-05</td>\n",
       "      <td>MineGround</td>\n",
       "      <td>play</td>\n",
       "      <td>900</td>\n",
       "      <td>occaecati138</td>\n",
       "      <td>2022-02</td>\n",
       "    </tr>\n",
       "    <tr>\n",
       "      <th>4</th>\n",
       "      <td>2022-01-08</td>\n",
       "      <td>2022-02-01</td>\n",
       "      <td>MineGround</td>\n",
       "      <td>play</td>\n",
       "      <td>900</td>\n",
       "      <td>corrupti325</td>\n",
       "      <td>2022-02</td>\n",
       "    </tr>\n",
       "    <tr>\n",
       "      <th>...</th>\n",
       "      <td>...</td>\n",
       "      <td>...</td>\n",
       "      <td>...</td>\n",
       "      <td>...</td>\n",
       "      <td>...</td>\n",
       "      <td>...</td>\n",
       "      <td>...</td>\n",
       "    </tr>\n",
       "    <tr>\n",
       "      <th>84816</th>\n",
       "      <td>2022-03-06</td>\n",
       "      <td>2022-03-11</td>\n",
       "      <td>SoccerManager</td>\n",
       "      <td>play</td>\n",
       "      <td>0</td>\n",
       "      <td>sed821</td>\n",
       "      <td>2022-03</td>\n",
       "    </tr>\n",
       "    <tr>\n",
       "      <th>84817</th>\n",
       "      <td>2022-03-20</td>\n",
       "      <td>2022-03-23</td>\n",
       "      <td>SoccerManager</td>\n",
       "      <td>play</td>\n",
       "      <td>0</td>\n",
       "      <td>minima581</td>\n",
       "      <td>2022-03</td>\n",
       "    </tr>\n",
       "    <tr>\n",
       "      <th>84818</th>\n",
       "      <td>2022-03-25</td>\n",
       "      <td>2022-03-27</td>\n",
       "      <td>SoccerManager</td>\n",
       "      <td>play</td>\n",
       "      <td>0</td>\n",
       "      <td>harum162</td>\n",
       "      <td>2022-03</td>\n",
       "    </tr>\n",
       "    <tr>\n",
       "      <th>84819</th>\n",
       "      <td>2022-03-15</td>\n",
       "      <td>2022-03-18</td>\n",
       "      <td>SoccerManager</td>\n",
       "      <td>play</td>\n",
       "      <td>0</td>\n",
       "      <td>eveniet498</td>\n",
       "      <td>2022-03</td>\n",
       "    </tr>\n",
       "    <tr>\n",
       "      <th>84820</th>\n",
       "      <td>2022-03-12</td>\n",
       "      <td>2022-03-17</td>\n",
       "      <td>SoccerManager</td>\n",
       "      <td>play</td>\n",
       "      <td>0</td>\n",
       "      <td>quis906</td>\n",
       "      <td>2022-03</td>\n",
       "    </tr>\n",
       "  </tbody>\n",
       "</table>\n",
       "<p>84821 rows × 7 columns</p>\n",
       "</div>"
      ],
      "text/plain": [
       "          install  Time_stamp      Game_Name Status  Payment   Customer_ID  \\\n",
       "0      2022-01-08  2022-02-05     MineGround   play     4900    facilis140   \n",
       "1      2022-01-05  2022-02-17     MineGround   play    29900    debitis994   \n",
       "2      2022-01-29  2022-02-06     MineGround   play     4900   possimus246   \n",
       "3      2022-01-09  2022-02-05     MineGround   play      900  occaecati138   \n",
       "4      2022-01-08  2022-02-01     MineGround   play      900   corrupti325   \n",
       "...           ...         ...            ...    ...      ...           ...   \n",
       "84816  2022-03-06  2022-03-11  SoccerManager   play        0        sed821   \n",
       "84817  2022-03-20  2022-03-23  SoccerManager   play        0     minima581   \n",
       "84818  2022-03-25  2022-03-27  SoccerManager   play        0      harum162   \n",
       "84819  2022-03-15  2022-03-18  SoccerManager   play        0    eveniet498   \n",
       "84820  2022-03-12  2022-03-17  SoccerManager   play        0       quis906   \n",
       "\n",
       "          date  \n",
       "0      2022-02  \n",
       "1      2022-02  \n",
       "2      2022-02  \n",
       "3      2022-02  \n",
       "4      2022-02  \n",
       "...        ...  \n",
       "84816  2022-03  \n",
       "84817  2022-03  \n",
       "84818  2022-03  \n",
       "84819  2022-03  \n",
       "84820  2022-03  \n",
       "\n",
       "[84821 rows x 7 columns]"
      ]
     },
     "execution_count": 131,
     "metadata": {},
     "output_type": "execute_result"
    }
   ],
   "source": [
    "#매출에 영향을 주ㅡㄴ 고객 정의\n",
    "\n",
    "#player_data 변수를 만ㄴ들고 play 고객만 골라내기\n",
    "player_data=sales_data[sales_data['Status']=='play']\n",
    "player_data"
   ]
  },
  {
   "cell_type": "code",
   "execution_count": 133,
   "metadata": {},
   "outputs": [],
   "source": [
    "#신규 고객과 기존 고객 구분\n",
    "player_data=player_data.copy()\n",
    "player_data['install_date']=player_data['install'].str[:7]\n",
    "player_data['play_date']=player_data['Time_stamp'].str[:7]"
   ]
  },
  {
   "cell_type": "code",
   "execution_count": 135,
   "metadata": {},
   "outputs": [],
   "source": [
    "#인스톨한 시기와 플레이한 시기가 같으면 신규고객\n",
    "#인스톨한 시기와 플레이 시기가 다르면 기존 고객\n",
    "\n",
    "player_data['type']=np.where(player_data['install_date']==player_data['play_date'],'New_player','Existing')"
   ]
  },
  {
   "cell_type": "code",
   "execution_count": 136,
   "metadata": {},
   "outputs": [
    {
     "data": {
      "text/plain": [
       "play_date  type      \n",
       "2022-02    Existing      28668\n",
       "           New_player    15480\n",
       "2022-03    Existing      28207\n",
       "           New_player    12466\n",
       "Name: Status, dtype: int64"
      ]
     },
     "execution_count": 136,
     "metadata": {},
     "output_type": "execute_result"
    }
   ],
   "source": [
    "grouped=player_data['Status'].groupby([player_data['play_date'],player_data['type']]).count()\n",
    "grouped"
   ]
  },
  {
   "cell_type": "code",
   "execution_count": 137,
   "metadata": {},
   "outputs": [
    {
     "ename": "AttributeError",
     "evalue": "'AxesSubplot' object has no attribute 'bar_label'",
     "output_type": "error",
     "traceback": [
      "\u001b[1;31m---------------------------------------------------------------------------\u001b[0m",
      "\u001b[1;31mAttributeError\u001b[0m                            Traceback (most recent call last)",
      "\u001b[1;32m<ipython-input-137-c3e2d67dae96>\u001b[0m in \u001b[0;36m<module>\u001b[1;34m\u001b[0m\n\u001b[0;32m      4\u001b[0m \u001b[0mcontainers\u001b[0m \u001b[1;33m=\u001b[0m \u001b[0max\u001b[0m\u001b[1;33m.\u001b[0m\u001b[0mcontainers\u001b[0m\u001b[1;33m[\u001b[0m\u001b[1;33m-\u001b[0m\u001b[1;36m1\u001b[0m\u001b[1;33m]\u001b[0m\u001b[1;33m\u001b[0m\u001b[1;33m\u001b[0m\u001b[0m\n\u001b[0;32m      5\u001b[0m \u001b[0mcontainers0\u001b[0m \u001b[1;33m=\u001b[0m \u001b[0max\u001b[0m\u001b[1;33m.\u001b[0m\u001b[0mcontainers\u001b[0m\u001b[1;33m[\u001b[0m\u001b[1;36m0\u001b[0m\u001b[1;33m]\u001b[0m\u001b[1;33m\u001b[0m\u001b[1;33m\u001b[0m\u001b[0m\n\u001b[1;32m----> 6\u001b[1;33m \u001b[0max\u001b[0m\u001b[1;33m.\u001b[0m\u001b[0mbar_label\u001b[0m\u001b[1;33m(\u001b[0m\u001b[0mcontainers\u001b[0m\u001b[1;33m,\u001b[0m \u001b[0mlabels\u001b[0m\u001b[1;33m=\u001b[0m\u001b[1;33m[\u001b[0m\u001b[1;34mf'{x:,.0f}'\u001b[0m \u001b[1;32mfor\u001b[0m \u001b[0mx\u001b[0m \u001b[1;32min\u001b[0m \u001b[0mcontainers\u001b[0m\u001b[1;33m.\u001b[0m\u001b[0mdatavalues\u001b[0m\u001b[1;33m]\u001b[0m\u001b[1;33m,\u001b[0m \u001b[0mlabel_type\u001b[0m\u001b[1;33m=\u001b[0m\u001b[1;34m'center'\u001b[0m\u001b[1;33m)\u001b[0m\u001b[1;33m\u001b[0m\u001b[1;33m\u001b[0m\u001b[0m\n\u001b[0m\u001b[0;32m      7\u001b[0m \u001b[0max\u001b[0m\u001b[1;33m.\u001b[0m\u001b[0mbar_label\u001b[0m\u001b[1;33m(\u001b[0m\u001b[0mcontainers0\u001b[0m\u001b[1;33m,\u001b[0m \u001b[0mlabels\u001b[0m\u001b[1;33m=\u001b[0m\u001b[1;33m[\u001b[0m\u001b[1;34mf'{x:,.0f}'\u001b[0m \u001b[1;32mfor\u001b[0m \u001b[0mx\u001b[0m \u001b[1;32min\u001b[0m \u001b[0mcontainers0\u001b[0m\u001b[1;33m.\u001b[0m\u001b[0mdatavalues\u001b[0m\u001b[1;33m]\u001b[0m\u001b[1;33m,\u001b[0m \u001b[0mlabel_type\u001b[0m\u001b[1;33m=\u001b[0m\u001b[1;34m'center'\u001b[0m\u001b[1;33m)\u001b[0m\u001b[1;33m\u001b[0m\u001b[1;33m\u001b[0m\u001b[0m\n\u001b[0;32m      8\u001b[0m \u001b[0mplt\u001b[0m\u001b[1;33m.\u001b[0m\u001b[0mtitle\u001b[0m\u001b[1;33m(\u001b[0m\u001b[1;34m'Customer Type By Month'\u001b[0m\u001b[1;33m)\u001b[0m\u001b[1;33m\u001b[0m\u001b[1;33m\u001b[0m\u001b[0m\n",
      "\u001b[1;31mAttributeError\u001b[0m: 'AxesSubplot' object has no attribute 'bar_label'"
     ]
    },
    {
     "data": {
      "image/png": "[encoded data removed]",
      "text/plain": [
       "<Figure size 640x480 with 1 Axes>"
      ]
     },
     "metadata": {},
     "output_type": "display_data"
    }
   ],
   "source": [
    "# 월별 신규 고객과 기존 고객 현황 시각화하기\n",
    "ax = sns.countplot(data=player_data, x='play_date', hue=\"type\")\n",
    "\n",
    "containers = ax.containers[-1]\n",
    "containers0 = ax.containers[0]\n",
    "ax.bar_label(containers, labels=[f'{x:,.0f}' for x in containers.datavalues], label_type='center')\n",
    "ax.bar_label(containers0, labels=[f'{x:,.0f}' for x in containers0.datavalues], label_type='center')\n",
    "plt.title('Customer Type By Month')"
   ]
  },
  {
   "cell_type": "markdown",
   "metadata": {},
   "source": [
    "플레이 인원이 줄고 잇음"
   ]
  },
  {
   "cell_type": "code",
   "execution_count": 139,
   "metadata": {
    "scrolled": true
   },
   "outputs": [
    {
     "data": {
      "text/plain": [
       "play_date  type      \n",
       "2022-02    Existing      50140500\n",
       "           New_player    30701300\n",
       "2022-03    Existing      50140500\n",
       "           New_player    18220700\n",
       "Name: Payment, dtype: int64"
      ]
     },
     "execution_count": 139,
     "metadata": {},
     "output_type": "execute_result"
    }
   ],
   "source": [
    "#월별 신규 고객과 기존 고객의 결제 현황\n",
    "\n",
    "grouped=player_data['Payment'].groupby([player_data['play_date'],player_data['type']]).sum()\n",
    "grouped"
   ]
  },
  {
   "cell_type": "code",
   "execution_count": 140,
   "metadata": {},
   "outputs": [
    {
     "ename": "AttributeError",
     "evalue": "'AxesSubplot' object has no attribute 'bar_label'",
     "output_type": "error",
     "traceback": [
      "\u001b[1;31m---------------------------------------------------------------------------\u001b[0m",
      "\u001b[1;31mAttributeError\u001b[0m                            Traceback (most recent call last)",
      "\u001b[1;32m<ipython-input-140-da49309ffadc>\u001b[0m in \u001b[0;36m<module>\u001b[1;34m\u001b[0m\n\u001b[0;32m      4\u001b[0m \u001b[0mcontainers\u001b[0m \u001b[1;33m=\u001b[0m \u001b[0max\u001b[0m\u001b[1;33m.\u001b[0m\u001b[0mcontainers\u001b[0m\u001b[1;33m[\u001b[0m\u001b[1;33m-\u001b[0m\u001b[1;36m1\u001b[0m\u001b[1;33m]\u001b[0m\u001b[1;33m\u001b[0m\u001b[1;33m\u001b[0m\u001b[0m\n\u001b[0;32m      5\u001b[0m \u001b[0mcontainers0\u001b[0m \u001b[1;33m=\u001b[0m \u001b[0max\u001b[0m\u001b[1;33m.\u001b[0m\u001b[0mcontainers\u001b[0m\u001b[1;33m[\u001b[0m\u001b[1;36m0\u001b[0m\u001b[1;33m]\u001b[0m\u001b[1;33m\u001b[0m\u001b[1;33m\u001b[0m\u001b[0m\n\u001b[1;32m----> 6\u001b[1;33m \u001b[0max\u001b[0m\u001b[1;33m.\u001b[0m\u001b[0mbar_label\u001b[0m\u001b[1;33m(\u001b[0m\u001b[0mcontainers\u001b[0m\u001b[1;33m,\u001b[0m \u001b[0mlabels\u001b[0m\u001b[1;33m=\u001b[0m\u001b[1;33m[\u001b[0m\u001b[1;34mf'{x:,.0f}'\u001b[0m \u001b[1;32mfor\u001b[0m \u001b[0mx\u001b[0m \u001b[1;32min\u001b[0m \u001b[0mcontainers\u001b[0m\u001b[1;33m.\u001b[0m\u001b[0mdatavalues\u001b[0m\u001b[1;33m]\u001b[0m\u001b[1;33m,\u001b[0m \u001b[0mlabel_type\u001b[0m\u001b[1;33m=\u001b[0m\u001b[1;34m'center'\u001b[0m\u001b[1;33m)\u001b[0m\u001b[1;33m\u001b[0m\u001b[1;33m\u001b[0m\u001b[0m\n\u001b[0m\u001b[0;32m      7\u001b[0m \u001b[0max\u001b[0m\u001b[1;33m.\u001b[0m\u001b[0mbar_label\u001b[0m\u001b[1;33m(\u001b[0m\u001b[0mcontainers0\u001b[0m\u001b[1;33m,\u001b[0m \u001b[0mlabels\u001b[0m\u001b[1;33m=\u001b[0m\u001b[1;33m[\u001b[0m\u001b[1;34mf'{x:,.0f}'\u001b[0m \u001b[1;32mfor\u001b[0m \u001b[0mx\u001b[0m \u001b[1;32min\u001b[0m \u001b[0mcontainers0\u001b[0m\u001b[1;33m.\u001b[0m\u001b[0mdatavalues\u001b[0m\u001b[1;33m]\u001b[0m\u001b[1;33m,\u001b[0m \u001b[0mlabel_type\u001b[0m\u001b[1;33m=\u001b[0m\u001b[1;34m'center'\u001b[0m\u001b[1;33m)\u001b[0m\u001b[1;33m\u001b[0m\u001b[1;33m\u001b[0m\u001b[0m\n\u001b[0;32m      8\u001b[0m \u001b[0mplt\u001b[0m\u001b[1;33m.\u001b[0m\u001b[0mtitle\u001b[0m\u001b[1;33m(\u001b[0m\u001b[1;34m'Customer Type By Month'\u001b[0m\u001b[1;33m)\u001b[0m\u001b[1;33m\u001b[0m\u001b[1;33m\u001b[0m\u001b[0m\n",
      "\u001b[1;31mAttributeError\u001b[0m: 'AxesSubplot' object has no attribute 'bar_label'"
     ]
    },
    {
     "data": {
      "image/png": "[encoded data removed]",
      "text/plain": [
       "<Figure size 640x480 with 1 Axes>"
      ]
     },
     "metadata": {},
     "output_type": "display_data"
    }
   ],
   "source": [
    "# 각 게임별 결제 금액 월별 시각화하기\n",
    "ax = sns.barplot(data=grouped.reset_index(), x='play_date', y='Payment', hue='type')\n",
    "\n",
    "containers = ax.containers[-1]\n",
    "containers0 = ax.containers[0]\n",
    "ax.bar_label(containers, labels=[f'{x:,.0f}' for x in containers.datavalues], label_type='center')\n",
    "ax.bar_label(containers0, labels=[f'{x:,.0f}' for x in containers0.datavalues], label_type='center')\n",
    "plt.title('Customer Type By Month')\n",
    "plt.show()"
   ]
  },
  {
   "cell_type": "code",
   "execution_count": 141,
   "metadata": {},
   "outputs": [
    {
     "ename": "AttributeError",
     "evalue": "'AxesSubplot' object has no attribute 'bar_label'",
     "output_type": "error",
     "traceback": [
      "\u001b[1;31m---------------------------------------------------------------------------\u001b[0m",
      "\u001b[1;31mAttributeError\u001b[0m                            Traceback (most recent call last)",
      "\u001b[1;32m<ipython-input-141-643f3b9e22a3>\u001b[0m in \u001b[0;36m<module>\u001b[1;34m\u001b[0m\n\u001b[0;32m      3\u001b[0m \u001b[1;33m\u001b[0m\u001b[0m\n\u001b[0;32m      4\u001b[0m \u001b[0mcontainers\u001b[0m \u001b[1;33m=\u001b[0m \u001b[0max\u001b[0m\u001b[1;33m.\u001b[0m\u001b[0mcontainers\u001b[0m\u001b[1;33m[\u001b[0m\u001b[1;33m-\u001b[0m\u001b[1;36m1\u001b[0m\u001b[1;33m]\u001b[0m\u001b[1;33m\u001b[0m\u001b[1;33m\u001b[0m\u001b[0m\n\u001b[1;32m----> 5\u001b[1;33m \u001b[0max\u001b[0m\u001b[1;33m.\u001b[0m\u001b[0mbar_label\u001b[0m\u001b[1;33m(\u001b[0m\u001b[0mcontainers\u001b[0m\u001b[1;33m,\u001b[0m \u001b[0mlabels\u001b[0m\u001b[1;33m=\u001b[0m\u001b[1;33m[\u001b[0m\u001b[1;34mf'{x:,.0f}'\u001b[0m \u001b[1;32mfor\u001b[0m \u001b[0mx\u001b[0m \u001b[1;32min\u001b[0m \u001b[0mcontainers\u001b[0m\u001b[1;33m.\u001b[0m\u001b[0mdatavalues\u001b[0m\u001b[1;33m]\u001b[0m\u001b[1;33m,\u001b[0m \u001b[0mlabel_type\u001b[0m\u001b[1;33m=\u001b[0m\u001b[1;34m'center'\u001b[0m\u001b[1;33m)\u001b[0m\u001b[1;33m\u001b[0m\u001b[1;33m\u001b[0m\u001b[0m\n\u001b[0m\u001b[0;32m      6\u001b[0m \u001b[0mcontainers0\u001b[0m \u001b[1;33m=\u001b[0m \u001b[0max\u001b[0m\u001b[1;33m.\u001b[0m\u001b[0mcontainers\u001b[0m\u001b[1;33m[\u001b[0m\u001b[1;33m-\u001b[0m\u001b[1;36m2\u001b[0m\u001b[1;33m]\u001b[0m\u001b[1;33m\u001b[0m\u001b[1;33m\u001b[0m\u001b[0m\n\u001b[0;32m      7\u001b[0m \u001b[0max\u001b[0m\u001b[1;33m.\u001b[0m\u001b[0mbar_label\u001b[0m\u001b[1;33m(\u001b[0m\u001b[0mcontainers0\u001b[0m\u001b[1;33m,\u001b[0m \u001b[0mlabels\u001b[0m\u001b[1;33m=\u001b[0m\u001b[1;33m[\u001b[0m\u001b[1;34mf'{x:,.0f}'\u001b[0m \u001b[1;32mfor\u001b[0m \u001b[0mx\u001b[0m \u001b[1;32min\u001b[0m \u001b[0mcontainers0\u001b[0m\u001b[1;33m.\u001b[0m\u001b[0mdatavalues\u001b[0m\u001b[1;33m]\u001b[0m\u001b[1;33m,\u001b[0m \u001b[0mlabel_type\u001b[0m\u001b[1;33m=\u001b[0m\u001b[1;34m'center'\u001b[0m\u001b[1;33m)\u001b[0m\u001b[1;33m\u001b[0m\u001b[1;33m\u001b[0m\u001b[0m\n",
      "\u001b[1;31mAttributeError\u001b[0m: 'AxesSubplot' object has no attribute 'bar_label'"
     ]
    },
    {
     "data": {
      "image/png": "[encoded data removed]",
      "text/plain": [
       "<Figure size 600x600 with 1 Axes>"
      ]
     },
     "metadata": {},
     "output_type": "display_data"
    }
   ],
   "source": [
    "#월별 신규 고객과 기존 고객의 결제 현황 시각화하기(누적막대 보기)\n",
    "ax = grouped.unstack().plot(kind='bar', stacked=True, grid=False, figsize=[6,6])\n",
    "\n",
    "containers = ax.containers[-1]\n",
    "ax.bar_label(containers, labels=[f'{x:,.0f}' for x in containers.datavalues], label_type='center')\n",
    "containers0 = ax.containers[-2]\n",
    "ax.bar_label(containers0, labels=[f'{x:,.0f}' for x in containers0.datavalues], label_type='center')\n",
    "\n",
    "plt.title('Payment by Type')\n",
    "plt.show()"
   ]
  },
  {
   "cell_type": "code",
   "execution_count": 142,
   "metadata": {},
   "outputs": [
    {
     "data": {
      "text/html": [
       "<div>\n",
       "<style scoped>\n",
       "    .dataframe tbody tr th:only-of-type {\n",
       "        vertical-align: middle;\n",
       "    }\n",
       "\n",
       "    .dataframe tbody tr th {\n",
       "        vertical-align: top;\n",
       "    }\n",
       "\n",
       "    .dataframe thead th {\n",
       "        text-align: right;\n",
       "    }\n",
       "</style>\n",
       "<table border=\"1\" class=\"dataframe\">\n",
       "  <thead>\n",
       "    <tr style=\"text-align: right;\">\n",
       "      <th></th>\n",
       "      <th>install</th>\n",
       "      <th>Time_stamp</th>\n",
       "      <th>Game_Name</th>\n",
       "      <th>Status</th>\n",
       "      <th>Payment</th>\n",
       "      <th>Customer_ID</th>\n",
       "      <th>date</th>\n",
       "      <th>install_date</th>\n",
       "      <th>play_date</th>\n",
       "    </tr>\n",
       "    <tr>\n",
       "      <th>type</th>\n",
       "      <th></th>\n",
       "      <th></th>\n",
       "      <th></th>\n",
       "      <th></th>\n",
       "      <th></th>\n",
       "      <th></th>\n",
       "      <th></th>\n",
       "      <th></th>\n",
       "      <th></th>\n",
       "    </tr>\n",
       "  </thead>\n",
       "  <tbody>\n",
       "    <tr>\n",
       "      <th>Existing</th>\n",
       "      <td>2022-01-08</td>\n",
       "      <td>2022-02-05</td>\n",
       "      <td>MineGround</td>\n",
       "      <td>play</td>\n",
       "      <td>4900</td>\n",
       "      <td>facilis140</td>\n",
       "      <td>2022-02</td>\n",
       "      <td>2022-01</td>\n",
       "      <td>2022-02</td>\n",
       "    </tr>\n",
       "    <tr>\n",
       "      <th>Existing</th>\n",
       "      <td>2022-01-05</td>\n",
       "      <td>2022-02-17</td>\n",
       "      <td>MineGround</td>\n",
       "      <td>play</td>\n",
       "      <td>29900</td>\n",
       "      <td>debitis994</td>\n",
       "      <td>2022-02</td>\n",
       "      <td>2022-01</td>\n",
       "      <td>2022-02</td>\n",
       "    </tr>\n",
       "    <tr>\n",
       "      <th>Existing</th>\n",
       "      <td>2022-01-29</td>\n",
       "      <td>2022-02-06</td>\n",
       "      <td>MineGround</td>\n",
       "      <td>play</td>\n",
       "      <td>4900</td>\n",
       "      <td>possimus246</td>\n",
       "      <td>2022-02</td>\n",
       "      <td>2022-01</td>\n",
       "      <td>2022-02</td>\n",
       "    </tr>\n",
       "    <tr>\n",
       "      <th>Existing</th>\n",
       "      <td>2022-01-09</td>\n",
       "      <td>2022-02-05</td>\n",
       "      <td>MineGround</td>\n",
       "      <td>play</td>\n",
       "      <td>900</td>\n",
       "      <td>occaecati138</td>\n",
       "      <td>2022-02</td>\n",
       "      <td>2022-01</td>\n",
       "      <td>2022-02</td>\n",
       "    </tr>\n",
       "    <tr>\n",
       "      <th>Existing</th>\n",
       "      <td>2022-01-08</td>\n",
       "      <td>2022-02-01</td>\n",
       "      <td>MineGround</td>\n",
       "      <td>play</td>\n",
       "      <td>900</td>\n",
       "      <td>corrupti325</td>\n",
       "      <td>2022-02</td>\n",
       "      <td>2022-01</td>\n",
       "      <td>2022-02</td>\n",
       "    </tr>\n",
       "    <tr>\n",
       "      <th>...</th>\n",
       "      <td>...</td>\n",
       "      <td>...</td>\n",
       "      <td>...</td>\n",
       "      <td>...</td>\n",
       "      <td>...</td>\n",
       "      <td>...</td>\n",
       "      <td>...</td>\n",
       "      <td>...</td>\n",
       "      <td>...</td>\n",
       "    </tr>\n",
       "    <tr>\n",
       "      <th>New_player</th>\n",
       "      <td>2022-03-06</td>\n",
       "      <td>2022-03-11</td>\n",
       "      <td>SoccerManager</td>\n",
       "      <td>play</td>\n",
       "      <td>0</td>\n",
       "      <td>sed821</td>\n",
       "      <td>2022-03</td>\n",
       "      <td>2022-03</td>\n",
       "      <td>2022-03</td>\n",
       "    </tr>\n",
       "    <tr>\n",
       "      <th>New_player</th>\n",
       "      <td>2022-03-20</td>\n",
       "      <td>2022-03-23</td>\n",
       "      <td>SoccerManager</td>\n",
       "      <td>play</td>\n",
       "      <td>0</td>\n",
       "      <td>minima581</td>\n",
       "      <td>2022-03</td>\n",
       "      <td>2022-03</td>\n",
       "      <td>2022-03</td>\n",
       "    </tr>\n",
       "    <tr>\n",
       "      <th>New_player</th>\n",
       "      <td>2022-03-25</td>\n",
       "      <td>2022-03-27</td>\n",
       "      <td>SoccerManager</td>\n",
       "      <td>play</td>\n",
       "      <td>0</td>\n",
       "      <td>harum162</td>\n",
       "      <td>2022-03</td>\n",
       "      <td>2022-03</td>\n",
       "      <td>2022-03</td>\n",
       "    </tr>\n",
       "    <tr>\n",
       "      <th>New_player</th>\n",
       "      <td>2022-03-15</td>\n",
       "      <td>2022-03-18</td>\n",
       "      <td>SoccerManager</td>\n",
       "      <td>play</td>\n",
       "      <td>0</td>\n",
       "      <td>eveniet498</td>\n",
       "      <td>2022-03</td>\n",
       "      <td>2022-03</td>\n",
       "      <td>2022-03</td>\n",
       "    </tr>\n",
       "    <tr>\n",
       "      <th>New_player</th>\n",
       "      <td>2022-03-12</td>\n",
       "      <td>2022-03-17</td>\n",
       "      <td>SoccerManager</td>\n",
       "      <td>play</td>\n",
       "      <td>0</td>\n",
       "      <td>quis906</td>\n",
       "      <td>2022-03</td>\n",
       "      <td>2022-03</td>\n",
       "      <td>2022-03</td>\n",
       "    </tr>\n",
       "  </tbody>\n",
       "</table>\n",
       "<p>84821 rows × 9 columns</p>\n",
       "</div>"
      ],
      "text/plain": [
       "               install  Time_stamp      Game_Name Status  Payment  \\\n",
       "type                                                                \n",
       "Existing    2022-01-08  2022-02-05     MineGround   play     4900   \n",
       "Existing    2022-01-05  2022-02-17     MineGround   play    29900   \n",
       "Existing    2022-01-29  2022-02-06     MineGround   play     4900   \n",
       "Existing    2022-01-09  2022-02-05     MineGround   play      900   \n",
       "Existing    2022-01-08  2022-02-01     MineGround   play      900   \n",
       "...                ...         ...            ...    ...      ...   \n",
       "New_player  2022-03-06  2022-03-11  SoccerManager   play        0   \n",
       "New_player  2022-03-20  2022-03-23  SoccerManager   play        0   \n",
       "New_player  2022-03-25  2022-03-27  SoccerManager   play        0   \n",
       "New_player  2022-03-15  2022-03-18  SoccerManager   play        0   \n",
       "New_player  2022-03-12  2022-03-17  SoccerManager   play        0   \n",
       "\n",
       "             Customer_ID     date install_date play_date  \n",
       "type                                                      \n",
       "Existing      facilis140  2022-02      2022-01   2022-02  \n",
       "Existing      debitis994  2022-02      2022-01   2022-02  \n",
       "Existing     possimus246  2022-02      2022-01   2022-02  \n",
       "Existing    occaecati138  2022-02      2022-01   2022-02  \n",
       "Existing     corrupti325  2022-02      2022-01   2022-02  \n",
       "...                  ...      ...          ...       ...  \n",
       "New_player        sed821  2022-03      2022-03   2022-03  \n",
       "New_player     minima581  2022-03      2022-03   2022-03  \n",
       "New_player      harum162  2022-03      2022-03   2022-03  \n",
       "New_player    eveniet498  2022-03      2022-03   2022-03  \n",
       "New_player       quis906  2022-03      2022-03   2022-03  \n",
       "\n",
       "[84821 rows x 9 columns]"
      ]
     },
     "execution_count": 142,
     "metadata": {},
     "output_type": "execute_result"
    }
   ],
   "source": [
    "# play_date의 인덱스를 type으로 지정하기\n",
    "payment_data = player_data.set_index('type', drop=True)\n",
    "payment_data"
   ]
  },
  {
   "cell_type": "code",
   "execution_count": 143,
   "metadata": {},
   "outputs": [],
   "source": [
    "# 인덱스에서 Existing을 삭제하고 신규 고객들만 남기기\n",
    "payment_data.drop('Existing', inplace=True)"
   ]
  },
  {
   "cell_type": "code",
   "execution_count": 144,
   "metadata": {},
   "outputs": [],
   "source": [
    "# payment_data의 인덱스를 Payment로 지정하기\n",
    "payment_data = payment_data.set_index('Payment')\n",
    "\n",
    "# Payment_data의 인덱스에서 0을 삭제하고 결제 이력이 있는 고객만 남기기\n",
    "payment_data.drop(0, inplace=True)\n",
    "payment_data = payment_data.reset_index()"
   ]
  },
  {
   "cell_type": "code",
   "execution_count": 145,
   "metadata": {},
   "outputs": [],
   "source": [
    "# 고객의 결제이력을 월별로 구분하기\n",
    "payment_data_02 = payment_data.set_index('play_date').loc['2022-02'].Payment.values\n",
    "payment_data_03 = payment_data.set_index('play_date').loc['2022-03'].Payment.values\n",
    "\n",
    "# 월별 데이터를 하나로 합치기\n",
    "total_payment = np.array([payment_data_02, payment_data_03],dtype=object,)"
   ]
  },
  {
   "cell_type": "code",
   "execution_count": 146,
   "metadata": {},
   "outputs": [
    {
     "data": {
      "image/png": "[encoded data removed]",
      "text/plain": [
       "<Figure size 640x480 with 1 Axes>"
      ]
     },
     "metadata": {},
     "output_type": "display_data"
    }
   ],
   "source": [
    "# 신규 고객들의 결제이력을 히스토그램으로 그리기\n",
    "bins = np.linspace(0, 50000, 10) # 0에서 시작해서 50,000까지 10의 간격으로 x축을 설정합니다.\n",
    "plt.xlabel(\"Payments\")\n",
    "plt.ylabel(\"Count\")\n",
    "plt.hist(total_payment, bins, label=['2022-02', '2022-03'])\n",
    "plt.title(\"New Player Payment Histogram\", fontsize=15)\n",
    "plt.show()"
   ]
  },
  {
   "cell_type": "code",
   "execution_count": 148,
   "metadata": {},
   "outputs": [
    {
     "ename": "SyntaxError",
     "evalue": "invalid syntax (<ipython-input-148-5736ce5a99c4>, line 8)",
     "output_type": "error",
     "traceback": [
      "\u001b[1;36m  File \u001b[1;32m\"<ipython-input-148-5736ce5a99c4>\"\u001b[1;36m, line \u001b[1;32m8\u001b[0m\n\u001b[1;33m    실행 완료\u001b[0m\n\u001b[1;37m       ^\u001b[0m\n\u001b[1;31mSyntaxError\u001b[0m\u001b[1;31m:\u001b[0m invalid syntax\n"
     ]
    }
   ],
   "source": [
    "\n",
    "123456\n",
    "# Pandas, Numpy, Matplotlib, Seaborn을 호출\n",
    "import pandas as pd\n",
    "import numpy as np\n",
    "import matplotlib.pyplot as plt\n",
    "plt.style.use('default')\n",
    "import seaborn as sns\n",
    "실행 완료\n",
    "sales_data 변수를 만들고 sales_6.csv 데이터를 불러와 각 데이터 값을 할당합니다. 위에서부터 5개의 데이터값을 확인해 볼까요?\n",
    "\n",
    "12345\n",
    "# sales_data 변수를 만들고 각 데이터 값을 할당\n",
    "sales_data = pd.read_csv('~/aiffel/data_analysis_basic/data/sales_6.csv')\n",
    "\n",
    "# 변수 sales_data의 head 값 확인하기\n",
    "sales_data.head()\n",
    "코드 실행 \n",
    "Sales 데이터를 살펴보니 총 여섯 개 컬럼이 발견되었습니다.\n",
    "\n",
    "고객들이 게임을 설치한 일자(install)\n",
    "최종 로그기록(Time_stamp)\n",
    "게임명(Game_Name)\n",
    "상태(Status)\n",
    "결제금액(Payment)\n",
    "유저 아이디(Customer_ID)\n",
    "우선 월별 게임 설치/플레이 횟수를 먼저 살펴보도록 하겠습니다.\n",
    "\n",
    "Sales_data에 ‘date’열을 만들고, value_counts() 함수를 적용하면 쉽게 계산할 수 있습니다\n",
    "\n",
    "123\n",
    "# sales_data의 date열을 만들고 Time_stamp 값의 7번째 값까지 입력 \n",
    "sales_data['date'] = sales_data['Time_stamp'].str[:7]\n",
    "sales_data.head()\n",
    "코드 실행 \n",
    "1\n",
    "sales_data['date'].value_counts()\n",
    "코드 실행 \n",
    "항목별 데이터가 얼마나 있는지 보여주는 countplot을 그려 봅시다.\n",
    "\n",
    "12345678910\n",
    "# 월별 고객 수 현황 시각화하기\n",
    "ax = sns.countplot(data=sales_data, x='date')\n",
    "\n",
    "containers = ax.containers[0]\n",
    "ax.bar_label(containers, labels=[f'{x:,.0f}' for x in containers.datavalues], label_type='center')\n",
    "containers0 = ax.containers[-1]\n",
    "ax.bar_label(containers0, labels=[f'{x:,.0f}' for x in containers0.datavalues], label_type='center')\n",
    "plt.title('Customer By Month')\n",
    "\n",
    "plt.show()\n",
    "코드 실행 \n",
    "우리 기업 고객 현황을 월별로 구분해보았습니다.\n",
    "2월에 기록한 고객수는 49,380명, 3월은 50,465명으로 오히려 증가했네요.\n",
    "매출은 줄었는데 고객이 늘었다니 이상합니다.\n",
    "\n",
    "이번에는 각 게임별 고객 숫자를 한번 살펴보겠습니다.\n",
    "게임별로 고객 숫자를 집계하기 위해서는 groupby()라는 함수가 사용됩니다.\n",
    "groupby()는 pandas의 데이터프레임 중 특정 열을 기준으로 집계할 수 있습니다.\n",
    "아래 코드는 순서대로 한번 읽어보면 다음과 같습니다.\n",
    "'grouped 변수를 만들고 sales_data의 Status의 값을 sales_data의 date와 Game_Name을 기준으로 집계한 값을 할당해' 라는 의미입니다.\n",
    "이 경우에는 집계 방식이 count이므로, date와 Game_Name 항목의 값을 기준으로 데이터를 묶은 다음 각 그룹에 속한 데이터 행의 개수를 세서 grouped 변수에 할당합니다.\n",
    "\n",
    "123\n",
    "# 월별 각 게임 고객 수 분류하기\n",
    "grouped = sales_data['Status'].groupby([sales_data['date'], sales_data['Game_Name']]).count()\n",
    "grouped\n",
    "코드 실행 \n",
    "이번에는 막대그래프를 그려 월별 각 게임 고객의 수를 시각화해보겠습니다.\n",
    "\n",
    "123456789\n",
    "# 월별 각 게임 고객 수 시각화하기\n",
    "ax = sns.barplot(data=grouped.reset_index(), x='date', y='Status', hue='Game_Name')\n",
    "\n",
    "containers = ax.containers[-1]\n",
    "containers0 = ax.containers[0]\n",
    "ax.bar_label(containers, labels=[f'{x:,.0f}' for x in containers.datavalues], label_type='center')\n",
    "ax.bar_label(containers0, labels=[f'{x:,.0f}' for x in containers0.datavalues], label_type='center')\n",
    "plt.title('Customer Count by Game')\n",
    "plt.show()\n",
    "코드 실행 \n",
    "각 게임별로 고객 현황을 구분해보았습니다.\n",
    "Mine Ground 고객은 2월에 27,721명, 3월 32,192명으로 증가했고,\n",
    "Soccer Manager 고객은 2월에 21,659명, 3월 18,273명으로 감소했습니다.\n",
    "Soccer Manager 고객 수만 감소한 원인이 있을까요?\n",
    "\n",
    "우선은 전체 기업 입장의 분석에 집중해보도록 합시다.\n",
    "이번에는 게임을 플레이한 고객과 인스톨한 고객으로 구분해보겠습니다.\n",
    "\n",
    "12\n",
    "# sales_data의 Status 열에 포함된 값들의 개수 세어보기\n",
    "sales_data['Status'].value_counts()\n",
    "코드 실행 \n",
    "월별 플레이/인스톨한 고객의 현황을 countplot을 사용해 시각화해 볼까요?\n",
    "\n",
    "123\n",
    "# 코드를 직접 작성해 보세요. \n",
    "# hint: hue를 'Status'로 지정해 보세요. \n",
    "# [[YOUR CODE]]\n",
    "코드 실행 \n",
    "월별 플레이/인스톨 고객 현황 시각화하기\n",
    "\n",
    "# 월별 플레이/인스톨 고객 현황 시각화하기\n",
    "ax = sns.countplot(data=sales_data, x='date', hue='Status')\n",
    "\n",
    "containers = ax.containers[0]\n",
    "ax.bar_label(containers, labels=[f'{x:,.0f}' for x in containers.datavalues], label_type='center')\n",
    "containers0 = ax.containers[-1]\n",
    "ax.bar_label(containers0, labels=[f'{x:,.0f}' for x in containers0.datavalues], label_type='center')\n",
    "plt.title('Customer By Real Play')\n",
    "\n",
    "plt.show()\n",
    "\n",
    "이제 뭔가 윤곽이 드러나기 시작하는 것 같습니다.\n",
    "인스톨한 고객이 기존 5,232명에서 9,792명으로 증가했지만 플레이한 고객은 44,148명에서 40,673명으로 감소했네요.\n",
    "\n",
    "이번에는 월별 결제 건수를 한번 살펴보겠습니다.\n",
    "12\n",
    "temp_data = sales_data[sales_data['Payment'] !=0]\n",
    "temp_data['date'].value_counts()\n",
    "코드 실행 \n",
    "123456\n",
    "# 월별 결제 횟수 시각화하기\n",
    "ax = sns.countplot(data=temp_data, x='date')\n",
    "containers = ax.containers[0]\n",
    "ax.bar_label(containers, labels=[f'{x:,.0f}' for x in containers.datavalues], label_type='center')\n",
    "plt.title('Payment Counts by Month')\n",
    "plt.show()\n",
    "코드 실행 \n",
    "확실히 결제 건수가 많이 줄어든 것을 확인할 수 있습니다. 각 게임별 결제건수는 어떨까요?\n",
    "Soccer Manager 고객 숫자가 줄었던것을 감안하면, Soccer Manager의 결제건수만 줄었을 것 같아요.\n",
    "\n",
    "한 번 확인해보겠습니다.\n",
    "우선 각 게임별 결제 건수를 확인하고 막대 그래프를 이용해 시각화해보겠습니다.\n",
    "\n",
    "123\n",
    "# 각 게임별 결제 건수 확인하기\n",
    "grouped = temp_data['Payment'].groupby([temp_data['date'], temp_data['Game_Name']]).count()\n",
    "grouped\n",
    "코드 실행 \n",
    "123456789\n",
    "# 각 게임별 결제 건수 시각화하기\n",
    "ax = sns.barplot(data=grouped.reset_index(), x='date', y='Payment', hue='Game_Name')\n",
    "\n",
    "containers = ax.containers[-1]\n",
    "containers0 = ax.containers[0]\n",
    "ax.bar_label(containers, labels=[f'{x:,.0f}' for x in containers.datavalues], label_type='center')\n",
    "ax.bar_label(containers0, labels=[f'{x:,.0f}' for x in containers0.datavalues], label_type='center')\n",
    "plt.title('Payment Count By Game')\n",
    "plt.show()\n",
    "코드 실행 \n",
    "이번에는 여러분이 직접 각 게임별 결제 금액을 확인하고, 막대 그래프로 시각화해보세요.\n",
    "\n",
    "123\n",
    "# 코드를 직접 작성해 보세요. \n",
    "# 각 게임별 결제 금액 확인하기\n",
    "# [[YOUR CODE]]\n",
    "코드 실행 \n",
    "각 게임별 결제 금액 확인하기\n",
    "# 각 게임별 결제 금액 확인하기\n",
    "grouped = temp_data['Payment'].groupby([temp_data['date'], temp_data['Game_Name']]).sum()\n",
    "grouped\n",
    "\n",
    "123\n",
    "# 코드를 직접 작성해 보세요. \n",
    "# 각 게임별 결제 금액 시각화하기\n",
    "# [[YOUR CODE]]\n",
    "코드 실행 \n",
    "각 게임별 결제 금액 시각화하기\n",
    "# 각 게임별 결제 금액 시각화하기\n",
    "ax = sns.barplot(data=grouped.reset_index(), x='date', y='Payment', hue='Game_Name')\n",
    "\n",
    "containers = ax.containers[-1]\n",
    "containers0 = ax.containers[0]\n",
    "ax.bar_label(containers, labels=[f'{x:,.0f}' for x in containers.datavalues], label_type='center')\n",
    "ax.bar_label(containers0, labels=[f'{x:,.0f}' for x in containers0.datavalues], label_type='center')\n",
    "plt.title('Payment Count By Game')\n",
    "plt.show()\n",
    "Mine Ground와 Soccer Manager 모두 결제 건수와 결제 금액이 줄어들었네요.\n",
    "즉, 매출액이 줄어든 것에 대한 원인은 Soccer Manager의 고객 숫자가 줄어든 것보다\n",
    "두 게임에서의 결제 인원이 줄어든 것이 더 큰 원인이라고 볼 수 있습니다.\n",
    "\n",
    "이제 본격적으로 매출액에 영향을 주는 고객들을 정의하고 살펴보도록 하겠습니다.\n",
    "123\n",
    "# player_data변수를 만들고 sales_data에서 Status가 play인 고객들만 골라내 할당하기\n",
    "player_data = sales_data[sales_data['Status'] == 'play']\n",
    "player_data\n",
    "코드 실행 \n",
    "게임을 설치하고 한번이라도 플레이한 고객들은 총 84,821명인 것을 알 수 있습니다.\n",
    "전체 고객 숫자가 99,845명이니까 플레이 비율은 약 84.9% 수준이네요.\n",
    "\n",
    "이번에는 신규 고객과 기존 고객을 구분해보겠습니다.\n",
    "1234\n",
    "# plater_data에 install_date열을 만들고, install열 값의 7번째 값까지 입력\n",
    "player_data = player_data.copy()\n",
    "player_data['install_date'] = player_data['install'].str[:7]\n",
    "player_data['play_date'] = player_data['Time_stamp'].str[:7]\n",
    "코드 실행 \n",
    "플레이한 고객들이 인스톨한 날과 비교해서\n",
    "\n",
    "인스톨한 시기와 플레이한 시기가 같으면 신규 고객(New Player) 으로 정의하고,\n",
    "인스톨한 시기와 플레이한 시기가 다르면 기존 고객(Existing) 으로 정의합니다.\n",
    "\n",
    "여기서는 입력 배열의 요소를 확인하고, 특정 조건에 만족하는 값을 반환하는 함수인 Numpy의 np.where() 함수를 사용해 봅시다.\n",
    "\n",
    "12\n",
    "# plater_data에 type열을 만들고, install_date와 play_date열의 값이 같으면 New Player을 입력, 값이 다르면 Existing을 입력\n",
    "player_data['type'] = np.where(player_data['install_date']==player_data['play_date'], 'New Player', 'Existing')\n",
    "코드 실행 \n",
    "123\n",
    "# 월별 신규 고객과 기존 고객 현황 세어보기\n",
    "grouped = player_data['Status'].groupby([player_data['play_date'], player_data['type']]).count()\n",
    "grouped\n",
    "코드 실행 \n",
    "123456789\n",
    "# 월별 신규 고객과 기존 고객 현황 시각화하기\n",
    "ax = sns.countplot(data=player_data, x='play_date', hue=\"type\")\n",
    "\n",
    "containers = ax.containers[-1]\n",
    "containers0 = ax.containers[0]\n",
    "ax.bar_label(containers, labels=[f'{x:,.0f}' for x in containers.datavalues], label_type='center')\n",
    "ax.bar_label(containers0, labels=[f'{x:,.0f}' for x in containers0.datavalues], label_type='center')\n",
    "plt.title('Customer Type By Month')\n",
    "plt.show()\n",
    "코드 실행 \n",
    "기존 플레이 고객은 기존 28,668명에서 28,207명으로 461명이 감소했습니다.\n",
    "그리고 신규 플레이 고객은 15,480명에서 12,466명으로 3,014명이 감소했네요.\n",
    "플레이 인원이 줄어들고 있다는 것은 큰 문제네요.\n",
    "\n",
    "이번에는 우리들의 주 관심사인 결제금액을 살펴보겠습니다.\n",
    "groupby() 함수와 sum() 함수를 사용하여 월별 신규 고객과 기존 고객의 결제 현황을 나타내 보세요.\n",
    "\n",
    "123\n",
    "# 코드를 직접 작성해 보세요. \n",
    "# 월별 신규 고객과 기존 고객의 결제 현황 살펴보기\n",
    "# [[YOUR CODE]]\n",
    "코드 실행 \n",
    "월별 신규 고객과 기존 고객의 결제 현황 살펴보기\n",
    "\n",
    "# 월별 신규 고객과 기존 고객의 결제 현황 살펴보기\n",
    "grouped = player_data['Payment'].groupby([player_data['play_date'], player_data['type']]).sum()\n",
    "grouped\n",
    "123456789\n",
    "# 각 게임별 결제 금액 월별 시각화하기\n",
    "ax = sns.barplot(data=grouped.reset_index(), x='play_date', y='Payment', hue='type')\n",
    "\n",
    "containers = ax.containers[-1]\n",
    "containers0 = ax.containers[0]\n",
    "ax.bar_label(containers, labels=[f'{x:,.0f}' for x in containers.datavalues], label_type='center')\n",
    "ax.bar_label(containers0, labels=[f'{x:,.0f}' for x in containers0.datavalues], label_type='center')\n",
    "plt.title('Customer Type By Month')\n",
    "plt.show()\n",
    "코드 실행 \n",
    "이번에는 누적막대 그래프를 사용해서 월별 신규 고객과 기존 고객의 결제 현황을 시각화해보겠습니다.\n",
    "이때 사용되는 grouped 변수는 멀티 인덱스로서 unstack()함수를 이용해 일반 인덱스로 변경해야 합니다. 그 다음 plot()함수에서 stacked=True 인자를 설정해야 누적막대 그래프가 그려집니다.\n",
    "\n",
    "12345678910\n",
    "#월별 신규 고객과 기존 고객의 결제 현황 시각화하기(누적막대 보기)\n",
    "ax = grouped.unstack().plot(kind='bar', stacked=True, grid=False, figsize=[6,6])\n",
    "\n",
    "containers = ax.containers[-1]\n",
    "ax.bar_label(containers, labels=[f'{x:,.0f}' for x in containers.datavalues], label_type='center')\n",
    "containers0 = ax.containers[-2]\n",
    "ax.bar_label(containers0, labels=[f'{x:,.0f}' for x in containers0.datavalues], label_type='center')\n",
    "\n",
    "plt.title('Payment by Type')\n",
    "plt.show()\n",
    "코드 실행 \n",
    "우선 기존 고객이 결제한 금액은 50,140,500원 동일합니다.\n",
    "하지만 신규 고객이 결제한 금액은 기존 30,701,300원에서 18,220,700원으로 약 40% 수준이 감소했네요.\n",
    "동 기간에 신규 고객이 줄어든 수치는 3014명으로 약 19%수준이 줄어든 것을 감안하더라도\n",
    "한 달만에 이렇게나 큰 비중이 줄어든 것은 우리 기업에게 치명적입니다.\n",
    "서둘러 대책을 마련해야할 것 같아요.\n",
    "\n",
    "신규 고객들이 결제한 금액을 보고 대응 전략을 마련해보도록 합시다.\n",
    "먼저 play_date의 인덱스를 type으로 지정해 봅시다.\n",
    "\n",
    "123\n",
    "# play_date의 인덱스를 type으로 지정하기\n",
    "payment_data = player_data.set_index('type', drop=True)\n",
    "payment_data\n",
    "코드 실행 \n",
    "데이터에서 기존 고객은 삭제하고, 신규 고객만 남겨보겠습니다. drop() 함수를 사용해 인덱스에서 Existing을 삭제하면 됩니다.\n",
    "\n",
    "12\n",
    "# 인덱스에서 Existing을 삭제하고 신규 고객들만 남기기\n",
    "payment_data.drop('Existing', inplace=True)\n",
    "코드 실행 \n",
    "신규 고객 중 결제 이력이 있는 고객만 남깁니다.\n",
    "이를 위해 payment_data의 인덱스를 Payment로 지정하고, 인덱스에서 0을 삭제해야 합니다.\n",
    "그 후 인덱스를 리셋해서 다시 payment 열을 본래의 데이터프레임으로 포함시켜줍니다.\n",
    "만약 인덱스를 리셋하지 않으면 payment 열을 사용할 수 없게 됩니다.\n",
    "\n",
    "123456\n",
    "# payment_data의 인덱스를 Payment로 지정하기\n",
    "payment_data = payment_data.set_index('Payment')\n",
    "\n",
    "# Payment_data의 인덱스에서 0을 삭제하고 결제 이력이 있는 고객만 남기기\n",
    "payment_data.drop(0, inplace=True)\n",
    "payment_data = payment_data.reset_index()\n",
    "코드 실행 \n",
    "이제 신규 고객의 결제 이력을 월별로 구분하고, 구분된 월별 데이터를 하나로 합쳐 줍니다.\n",
    "\n",
    "123456\n",
    "# 고객의 결제이력을 월별로 구분하기\n",
    "payment_data_02 = payment_data.set_index('play_date').loc['2022-02'].Payment.values\n",
    "payment_data_03 = payment_data.set_index('play_date').loc['2022-03'].Payment.values\n",
    "\n",
    "# 월별 데이터를 하나로 합치기\n",
    "total_payment = np.array([payment_data_02, payment_data_03],dtype=object,)\n",
    "코드 실행 \n",
    "마지막으로 신규 고객들의 결제이력을 히스토그램으로 그려 봅시다.\n",
    "히스토그램의 x축 간격은 보통 자동으로 설정됩니다.\n",
    "하지만 우리가 히스토그램을 그릴때 사용하는 데이터인 고객의 결제는\n",
    "작게는 900원, 많게는 49,900원까지 그 간격 차이가 크게 납니다.\n",
    "따라서 우리들은 numpy라이브러리의 linspace() 함수를 사용해 x축의 간격을 설정하도록 하겠습니다.\n",
    "\n",
    "1234567\n",
    "# 신규 고객들의 결제이력을 히스토그램으로 그리기\n",
    "bins = np.linspace(0, 50000, 10) # 0에서 시작해서 50,000까지 10의 간격으로 x축을 설정합니다.\n",
    "plt.xlabel(\"Payments\")\n",
    "plt.ylabel(\"Count\")\n",
    "plt.hist(total_payment, bins, label=['2022-02', '2022-03'])\n",
    "plt.title(\"New Player Payment Histogram\", fontsize=15)\n",
    "plt.show()\n",
    "코드 실행 \n",
    "신규고객들의 경우, 모든 금액대에서 결제건수가 줄었습니다.\n",
    "그럼 신규 고객들만 그럴까요?\n",
    "\n",
    "기존 고객들의 결제 건수를 확인해보도록 합시다.\n",
    "이번에는 여러분이 직접 코드를 짜보세요.\n",
    "\n",
    "1234567891011121314151617181920212223\n",
    "# 코드를 직접 작성해 보세요. \n",
    "\n",
    "\n",
    "# play_date의 인덱스를 type으로 지정하기\n",
    "# [[YOUR CODE]]\n",
    "\n",
    "# 인덱스에서 New_player을 삭제하고 기존 고객들만 남기기\n",
    "# [[YOUR CODE]]\n",
    "\n",
    "# payment_data의 인덱스를 Payment로 지정하기\n",
    "\n",
    "코드 실행 \n",
    "기존 고객들의 결제 건수 확인\n",
    "# play_date의 인덱스를 type으로 지정하기\n",
    "payment_data = player_data.set_index('type', drop=True)\n",
    "\n",
    "# 인덱스에서 New_player을 삭제하고 기존 고객들만 남기기\n",
    "payment_data.drop('New Player', inplace=True)\n",
    "\n",
    "# payment_data의 인덱스를 Payment로 지정하기\n",
    "payment_data = payment_data.set_index('Payment')\n",
    "\n",
    "# Payment_data의 인덱스에서 0을 삭제하고 결제 이력이 있는 고객만 남기기\n",
    "payment_data.drop(0, inplace=True)\n",
    "payment_data = payment_data.reset_index()\n",
    "\n",
    "# 고객의 결제이력을 월별로 구분하기\n",
    "payment_data_02 = payment_data.set_index('play_date').loc['2022-02'].Payment.values\n",
    "payment_data_03 = payment_data.set_index('play_date').loc['2022-03'].Payment.values\n",
    "\n",
    "# 월별 데이터를 하나로 합치기\n",
    "total_payment = np.array([payment_data_02, payment_data_03],dtype=object,)\n",
    "\n",
    "# 신규 고객들의 결제이력을 히스토그램으로 그리기\n",
    "bins = np.linspace(0, 50000, 10)\n",
    "plt.xlabel(\"Payments\")\n",
    "plt.ylabel(\"Count\")\n",
    "plt.hist(total_payment, bins, label=['2022-02', '2022-03'])\n",
    "plt.title(\"New Player Payment Histogram\", fontsize=15)\n",
    "plt.show()\n"
   ]
  },
  {
   "cell_type": "markdown",
   "metadata": {},
   "source": [
    "머라ㅡㄴ거야 꺼져\n"
   ]
  },
  {
   "cell_type": "markdown",
   "metadata": {},
   "source": []
  }
 ],
 "metadata": {
  "kernelspec": {
   "display_name": "Python 3",
   "language": "python",
   "name": "python3"
  },
  "language_info": {
   "codemirror_mode": {
    "name": "ipython",
    "version": 3
   },
   "file_extension": ".py",
   "mimetype": "text/x-python",
   "name": "python",
   "nbconvert_exporter": "python",
   "pygments_lexer": "ipython3",
   "version": "3.8.5"
  }
 },
 "nbformat": 4,
 "nbformat_minor": 4
}
